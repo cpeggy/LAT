{
 "cells": [
  {
   "cell_type": "code",
   "execution_count": null,
   "id": "1ac9a8c1",
   "metadata": {},
   "outputs": [],
   "source": [
    "#教育文字內容視覺化"
   ]
  },
  {
   "cell_type": "code",
   "execution_count": null,
   "id": "e5218625",
   "metadata": {},
   "outputs": [],
   "source": [
    "###爬蟲載txt"
   ]
  },
  {
   "cell_type": "code",
   "execution_count": 65,
   "id": "cf63f43c",
   "metadata": {},
   "outputs": [
    {
     "data": {
      "text/plain": [
       "3759"
      ]
     },
     "execution_count": 65,
     "metadata": {},
     "output_type": "execute_result"
    }
   ],
   "source": [
    "import requests \n",
    "from bs4 import BeautifulSoup\n",
    "import pandas as pd\n",
    "\n",
    "##來源：新聞實驗室\n",
    "url1 = 'https://newslab.pts.org.tw/video/189-%E5%A4%A7%E5%AD%B8%E7%94%9F%E5%BF%83%E7%90%86%E5%81%A5%E5%BA%B7%E9%9A%B1%E6%86%82%EF%BC%8C%E4%B8%8D%E5%BF%AB%E6%A8%82%E7%9A%84%E4%BB%96%E5%80%91%E8%83%BD%E8%A2%AB%E6%8E%A5%E4%BD%8F%E5%97%8E%EF%BC%9F'\n",
    "r1 = requests.get(url1)\n",
    "web_content1 = r1.text\n",
    "soup1 = BeautifulSoup(web_content1,'lxml')\n",
    "\n",
    "#找出所有的<p>\n",
    "articleContent1 = soup1.find_all('p')\n",
    "\n",
    "# 將所有tag p中的text取出並放進list。\n",
    "article1 = []\n",
    "for p in articleContent1:\n",
    "    article1.append(p.text)\n",
    "    articleAll1 = '\\n'.join(article1)\n",
    "    \n",
    "#下載成txt.\n",
    "with open('output1.txt', 'w', encoding='utf-8') as f:\n",
    "    f.write(articleAll1)\n",
    "\n",
    "len(articleAll1)"
   ]
  },
  {
   "cell_type": "code",
   "execution_count": 66,
   "id": "8e64e89a",
   "metadata": {},
   "outputs": [
    {
     "data": {
      "text/plain": [
       "1412"
      ]
     },
     "execution_count": 66,
     "metadata": {},
     "output_type": "execute_result"
    }
   ],
   "source": [
    "##來源：heho\n",
    "url2 = 'https://heho.com.tw/archives/239504'\n",
    "r2 = requests.get(url2)\n",
    "web_content2 = r2.text\n",
    "soup2 = BeautifulSoup(web_content2,'lxml')\n",
    "\n",
    "#找出所有的<p>\n",
    "articleContent2 = soup2.find_all('p')\n",
    "\n",
    "# 將所有tag p中的text取出並放進list。\n",
    "article2 = []\n",
    "for p in articleContent2:\n",
    "    article2.append(p.text)\n",
    "    articleAll2 = '\\n'.join(article2)\n",
    "    \n",
    "#下載成txt.\n",
    "with open('output2.txt', 'w', encoding='utf-8') as f:\n",
    "    f.write(articleAll2)\n",
    "    \n",
    "len(articleAll2)"
   ]
  },
  {
   "cell_type": "code",
   "execution_count": 67,
   "id": "7028de5a",
   "metadata": {},
   "outputs": [
    {
     "data": {
      "text/plain": [
       "6768"
      ]
     },
     "execution_count": 67,
     "metadata": {},
     "output_type": "execute_result"
    }
   ],
   "source": [
    "##來源：國家教育研究院\n",
    "url3 = 'https://epaper.naer.edu.tw/edm.php?grp_no=2&edm_no=191&content_no=3414'\n",
    "r3 = requests.get(url3)\n",
    "web_content3 = r3.text\n",
    "soup3 = BeautifulSoup(web_content3,'lxml')\n",
    "\n",
    "#找出所有的<p>\n",
    "articleContent3 = soup3.find_all('p')\n",
    "\n",
    "#將所有tag p中的text取出並放進list。\n",
    "article3 = []\n",
    "articleAll3 = ''\n",
    "for p in articleContent3:\n",
    "    article3.append(p.text)\n",
    "    articleAll3 = '\\n'.join(article3)\n",
    "    \n",
    "#下載成txt.\n",
    "with open('output3.txt', 'w', encoding='utf-8') as f:\n",
    "    f.write(articleAll3)\n",
    "\n",
    "len(articleAll3)"
   ]
  },
  {
   "cell_type": "code",
   "execution_count": 68,
   "id": "2a665f51",
   "metadata": {},
   "outputs": [],
   "source": [
    "import openai"
   ]
  },
  {
   "cell_type": "code",
   "execution_count": 69,
   "id": "24f4f115",
   "metadata": {},
   "outputs": [],
   "source": [
    "keyfile = open(\"key.txt\", \"r\")\n",
    "key = keyfile.readline()\n",
    "openai.api_key = key"
   ]
  },
  {
   "cell_type": "code",
   "execution_count": 70,
   "id": "6bc3b153",
   "metadata": {},
   "outputs": [],
   "source": [
    "data1 = [articleAll1[0:400], articleAll1[400:800], articleAll1[800:1200], articleAll1[1200:1600], articleAll1[1600:2000], articleAll1[2000:2400], \n",
    "        articleAll1[2400:2800], articleAll1[2800:3200], articleAll1[3200:3600], articleAll1[3600:4000]]"
   ]
  },
  {
   "cell_type": "code",
   "execution_count": 71,
   "id": "d2421d7f",
   "metadata": {},
   "outputs": [],
   "source": [
    "data2 = [articleAll2[0:400], articleAll2[400:800], articleAll2[800:1200], articleAll2[1200:1600]]"
   ]
  },
  {
   "cell_type": "code",
   "execution_count": 72,
   "id": "9cb3e2b5",
   "metadata": {},
   "outputs": [],
   "source": [
    "data3 = [articleAll3[0:400], articleAll3[400:800], articleAll3[800:1200], articleAll3[1200:1600], articleAll3[1600:2000], articleAll3[2000:2400], \n",
    "        articleAll3[2400:2800], articleAll3[2800:3200], articleAll3[3200:3600], articleAll3[3600:4000], articleAll3[4000:4400], articleAll3[4400:4800],\n",
    "        articleAll3[4800:5200], articleAll3[5200:5600], articleAll3[5600:6000], articleAll3[6000:6400], articleAll3[6400:6800]]"
   ]
  },
  {
   "cell_type": "code",
   "execution_count": 75,
   "id": "fa2e8a1b",
   "metadata": {},
   "outputs": [],
   "source": [
    "def chatgptfn(sub_list):\n",
    "    result = ''\n",
    "    response = openai.ChatCompletion.create(\n",
    "        model=\"gpt-3.5-turbo\",\n",
    "        messages=[\n",
    "            {\"role\": \"system\", \"content\": \"You are an assistant\"},\n",
    "            {\"role\": \"user\", \"content\": f\"{sub_list} :give me a summary\"}\n",
    "        ]\n",
    "    )\n",
    "    for choice in response.choices:\n",
    "        result += choice.message.content\n",
    "    return result"
   ]
  },
  {
   "cell_type": "code",
   "execution_count": 76,
   "id": "d382d868",
   "metadata": {},
   "outputs": [
    {
     "data": {
      "text/plain": [
       "'The article discusses the prevalence of mental health struggles among college students in Taiwan, citing statistics on national healthcare data and suicide rates. Many students rely on campus counseling services, but some are forced to interrupt their studies or drop out due to their condition. The article raises questions about what factors contribute to this situation and whether the current support systems are adequate to help students in need. The story includes a quote from a college student sharing her personal experience of feeling disconnected and unhappy, likely due to the stress and pressure of college life.'"
      ]
     },
     "execution_count": 76,
     "metadata": {},
     "output_type": "execute_result"
    }
   ],
   "source": [
    "data1[0] = chatgptfn(data1[0])\n",
    "data1[0]"
   ]
  },
  {
   "cell_type": "code",
   "execution_count": 77,
   "id": "5b7c9382",
   "metadata": {},
   "outputs": [],
   "source": [
    "for i in range(0,10):\n",
    "    data1[i] = chatgptfn(data1[i])"
   ]
  },
  {
   "cell_type": "code",
   "execution_count": 78,
   "id": "7afb0e7a",
   "metadata": {},
   "outputs": [],
   "source": [
    "for j in range(0,4):\n",
    "    data2[j] = chatgptfn(data2[j])"
   ]
  },
  {
   "cell_type": "code",
   "execution_count": 79,
   "id": "37ecc998",
   "metadata": {},
   "outputs": [],
   "source": [
    "for k in range(0,17):\n",
    "    data3[k] = chatgptfn(data3[k])"
   ]
  },
  {
   "cell_type": "code",
   "execution_count": 80,
   "id": "c2714948",
   "metadata": {},
   "outputs": [
    {
     "data": {
      "text/plain": [
       "list"
      ]
     },
     "execution_count": 80,
     "metadata": {},
     "output_type": "execute_result"
    }
   ],
   "source": [
    "type(data1)"
   ]
  },
  {
   "cell_type": "code",
   "execution_count": 81,
   "id": "3838460e",
   "metadata": {},
   "outputs": [],
   "source": [
    "articleFull = data1+ data2+ data3"
   ]
  },
  {
   "cell_type": "code",
   "execution_count": 82,
   "id": "ba786775",
   "metadata": {},
   "outputs": [],
   "source": [
    "#Data = ''\n",
    "#for i in range(0,21):\n",
    "    #Data = Data+data[i]"
   ]
  },
  {
   "cell_type": "code",
   "execution_count": 83,
   "id": "0c2111de",
   "metadata": {},
   "outputs": [
    {
     "data": {
      "text/plain": [
       "['The article highlights the high rates of mental health issues and suicide among college students in Taiwan. Many students seek help from campus counseling services, but some still struggle and are forced to interrupt or drop out of their studies. The article questions the current support systems and explores factors that contribute to the situation, including stress and pressure from college life. The story ends with a student sharing her personal experience of feeling unhappy and disconnected.',\n",
       " '小魚在高一時突然發現自己的狀態不太對，開始難以專注、記憶力下降，後來被確診罹患憂鬱症。經過長達6年的治療，她現在正努力維持在軌道上前進，希望完成學業、拿到文憑。她坦言，獲得正確的醫療幫助和支援非常重要，並且鼓勵有相似問題的人們及時尋求幫助。',\n",
       " 'The article discusses the experiences of a college student named \"小魚\" who has been living with depression for six years. She explains how academic pressure and feeling out of place within her major contributed to her mental health struggles. Despite taking breaks from school to focus on treatment and recovery, she still experiences ups and downs in her mental health. She hopes for more understanding and empathy towards those living with mental illness.',\n",
       " 'A survey conducted by P# News Laboratory revealed that 6 out of 10 college students who were diagnosed with mental illnesses attributed the cause to academic stress and the feeling that their chosen major did not align with their interests. The other students cited issues related to relationships or family. More and more students are seeking counseling from universities to help with career exploration, relationships, and family issues. Experts believe that college is a time when students are trying to figure out who they are and what they want to do, which can cause stress and anxiety.',\n",
       " \"The article discusses the importance of self-exploration in understanding one's personality and career path, as well as the challenges and anxieties faced by some students in this process. It also highlights the increasing demand for counseling services in universities, exemplified by the crowded schedule of the student counseling center at Kaohsiung Medical University. The article stresses the importance of an individual's pace in pursuing their goals, as well as seeking help and guidance when needed.\",\n",
       " 'An increasing number of students in Taiwanese universities are seeking counseling services, leading to long wait times and overwhelming pressure on support staff. For example, at National Taiwan University, there were over 10,000 counseling sessions held in 2019 with only 62 professional counselors available to handle the demand. While the law requires universities to allocate one counselor for every 1,200 students, the growth of students seeking mental health support suggests that more resources may be necessary. Some universities have integrated part-time counselors to augment their full-time staff to better deal with the increasing demand.',\n",
       " 'According to the director of the Student Counseling Center at Fu Jen Catholic University, schools may not necessarily hire all full-time psychologists due to personnel cost considerations, and part-time staff provide more scheduling flexibility but they still need to comply with regulations. Most schools already employ professional counselors with the required ratio of 1:1200 students set by the Ministry of Education, but there is an increasing demand for adjusting the ratio due to the growing need for counseling services and additional administrative tasks for counselors. For example, Kaohsiung Medical University has five full-time psychologists and three to five part-time psychologists to serve a student population of around 6500, but they still face high caseloads during peak periods, sometimes reaching 10 to 15 cases per week per psychologist.',\n",
       " 'School counseling centers in Taiwan face challenges due to a shortage of personnel and high turnover rates among psychologists. Many schools only have one or two full-time counselors who are responsible for both counseling and administrative tasks. This may result in limited counseling resources for those in need. To alleviate the workload, some suggest hiring additional personnel to handle administrative tasks and activities, allowing counselors to focus on counseling work. The salaries of school counselors are also lower than those of private psychologists, which may contribute to high turnover rates.',\n",
       " 'Many young students have been committing suicide in recent years, bringing attention to the mental health support provided by educational institutions. Schools have implemented a three-tiered counseling system to provide appropriate levels of care for students in need. While counseling is not a cure-all, counselors do their best to help students who require assistance. Although counselors may not be able to help everyone, they try to make resources available to help all students.',\n",
       " \"The article discusses the growing concern for the mental health of university students in Taiwan, particularly in light of the increasing number of cases of student self-harm. The government and universities have implemented various measures to address this issue, including establishing counseling centers, providing mental health training for faculty, and creating high-risk student lists. However, there are still concerns about whether these measures are sufficient to meet the growing demand for mental health support and whether the safety net put in place can effectively help every distressed student. The article concludes that these issues still need to be discussed and addressed in order to better support university students' mental health.\",\n",
       " 'A study by Rutgers University found that academic stress has a bigger negative impact on the mental health of certain college students, particularly female students and sophomores. The researchers suggest that universities should provide tailored mental health resources to help these students cope with stress and improve their overall mental health. This highlights the need for additional support and resources for different groups of students, especially during times of increased stress like during the COVID-19 pandemic. According to the American Psychological Association, up to 87% of students report experiencing academic stress.',\n",
       " 'This study seeks to determine the relationship between academic stress and the psychological health of college students, as well as the impact of COVID-19 related stress on academic stress levels. The researchers used the SWEMWBS and PAS surveys to evaluate the mental health of 843 college students aged 18 to 30. The study found that academic stress has a greater detrimental impact on the psychological well-being of female students compared to male students, and that second-year college students experience more academic stress and poorer mental health compared to other year levels. Additionally, the study found that stress related to COVID-19 had a significant impact on academic stress levels.',\n",
       " \"A recent study found that college sophomores experience more academic stress than other grade levels due to advanced coursework and heavier workload, along with a less extensive support system compared to upperclassmen. The study suggests that universities should provide tailored mental health resources to enhance students' resilience and promote stress management strategies such as mindfulness meditation and therapy, as well as organize peer support groups to reduce stress. To reduce stigmatization of mental health problems, universities can distribute confidential assessments in class to help students understand their specific sources of stress and mental health conditions.\",\n",
       " 'The article discusses four methods suggested by a neuroscientist to prevent anxious thoughts from lingering in the brain. The methods include focusing on the present moment, visualizing positive images, practicing gratitude, and engaging in physical exercise. The article also emphasizes the importance of seeking professional help if anxiety persists.',\n",
       " 'The rapid social, economic, and technological developments of the past century have brought significant progress to various aspects of human life. However, the accompanying high competition, uncertainty, and insecurity have led to increased stress, anxiety, and depression among people. External factors such as academic pressure, social relationships, and family environment can cause psychological and emotional distress, which has been spreading among young people, including teenagers and university students. Studies from the National Institute of Mental Health and Centers for Disease Control in the United States show that 18% of adults and 49% of adolescents suffer from mental illness, and suicide rates have increased in many states. Research from British institutions on mental health education for children ages 5-16 also reveals concerning data.',\n",
       " 'The prevalence of mental health issues among children and young people is a growing concern. In various studies, approximately 10% of children have been diagnosed with mental health problems, and there has been a significant increase in the number of young people being admitted to hospitals due to self-harm. Additionally, research has found that a significant proportion of high school students have had suicidal thoughts, with over 50% of those having made suicide plans or attempts. In Taiwan, a survey found that around 13% of high school students experience significant depression. Mental health issues also affect university students with the Canadian Association of College and University Student Services reporting increasing rates of mental health concerns among this group.',\n",
       " \"According to studies, a significant percentage of university students globally experience anxiety, depression, and other mental health issues. Reports indicate that over 20% of Canadian students feel anxious or depressed, while over 50% of American students are dealing with psychological problems. Such problems could affect academic performance, concentration, and overall quality of life. As a result, governments, schools, and colleges have been implementing measures to improve students' mental health.\",\n",
       " \"This article summarizes strategies proposed by different countries to improve school mental health policy and plans. One approach is to enact laws and policies that require educational institutions to develop such plans. For example, California's education bureau introduced a model youth suicide prevention policy that emphasizes the importance of parental education, teacher training in identifying and addressing student mental health issues, and early prevention measures such as reducing suicide publicity and promoting mental health awareness. Schools should also prominently display suicide prevention hotlines and inform staff about students' potential suicidal tendencies to ensure quick intervention.\",\n",
       " 'In order to prevent suicide events, there are various measures being taken in California by both the government and the school systems. Efforts include the implementation of suicide prevention hotlines on student IDs, legislation requiring training for certain professions in suicide risk assessment and intervention, the requirement for schools to provide information on student mental health services, and periodic reviews of suicide prevention policies at schools. These measures are aimed at improving the mental health support available to students and reducing the risk of suicide.',\n",
       " 'This article discusses two ways to improve the mental health of students: allowing educational institutions to update policies more frequently and providing education for teachers on mental health. The article mentions how teachers are often the first to notice when a student is struggling with mental health issues and therefore, it is important for them to have access to resources to help these students. Specific examples from various countries are provided, such as a free online course for teachers in Canada to improve their knowledge of mental health.',\n",
       " \"The resource course for Assistant Teachers in Canada provides basic knowledge about mental health, and it was developed by scholars from the University of British Columbia and Dalhousie University, together with psychiatrist Stan Kutcher. The course covers a wide range of topics, including mental illness, depression, and human brain development. Through case studies, teachers can learn to observe changes in students' behavior, even minor ones such as social withdrawal. The course will be available online for free to all students in Canada's education program, regardless of whether it is required by their school.\\n\\nIn addition to this course, the British Columbia Ministry of Education is working with the Ministry of Mental Health and Addictions to provide training opportunities for educators. This initiative aims to integrate school and community resources to provide training for educators on mental health issues. The conference was held in February 2019, and both ministries are committed to working together to support mental health in schools.\",\n",
       " 'The British Columbia Ministry of Education and the Ministry of Mental Health and Addictions have announced a $3 million investment in school mental health programs. The funds will go towards training for education professionals, counseling for parents and students, and development of new resources for families and communities. The goal is to enable schools to provide immediate support to students in need and to help educators recognize warning signs of mental health issues before they escalate. Additionally, the BC Ministry of Children and Family Development and Anxiety Canada have partnered to promote a program aimed at reducing anxiety among school professionals.',\n",
       " 'This passage discusses three strategies used in different countries to address mental health concerns among educators and students. In Japan, a program called \"The School Mental Health Act\" was implemented to promote mental health education and support in schools. In Canada, the \"Everyday Anxiety Strategies for Educators\" program was established to provide anxiety prevention strategies and resources for teachers and school counsellors. In the UK, a green paper was released to strengthen communication and collaboration between the education and healthcare systems in identifying and providing necessary mental health services for students. These strategies aim to promote mental health awareness and support for students and educators in schools.',\n",
       " 'The UK government is taking steps to improve the mental health of young people in schools. These steps include training professionals to provide mental health services, encouraging schools to hire these experts, and setting up mental health teams within schools. In addition, wait times for public mental health services will be reduced. The plan will begin in 2018 and it is expected to be fully implemented by 2020. Another step is to make mental health courses mandatory in all levels of education, from elementary school to college.',\n",
       " 'The education systems in England and the United States have both increased their focus on mental health education. In England, mental health education is now included in the mandatory Relationship and Sex Education curriculum for primary and secondary schools, and students are taught about self-care and how to recognize and address mental health issues. In the United States, many universities now include training on alcohol and drug use, as well as education on sexual harassment.',\n",
       " \"The training and courses for mental health awareness and cognition vary between universities, with some offering talks or group discussions and others using performances or videos to introduce mental illness symptoms and available resources on campus. Some universities also use online courses, like Kognito, to increase students' knowledge and understanding of mental health. Kognito provides a 30-minute simulation course, where students interact with a virtual student who appears to be depressed or anxious and practice having a conversation. These courses aim to help students face mental health problems, access resources, and understand mental health issues from a broader perspective.\",\n",
       " 'The article discusses the importance of promoting emotional intelligence and mental health awareness among students. It suggests implementing emotional intelligence education in schools, providing resources for students to seek help, and strengthening on-campus counseling services. The need for more mental health professionals is highlighted, and the article uses examples from California State University to support these points. The focus is on improving the mental health of students and creating a supportive environment for them.',\n",
       " 'The lack of psychological counseling staff in public universities has become a widespread problem. The California Faculty Association supports a proposal where one professional counselor is allocated for every 1,000 students. In the University of Florida, the waiting time for an appointment with a counselor is around 4-5 weeks, despite hiring 37 counselors to address the issue. Thus, the Director established an online counseling program called \"Therapist Assisted Online\" (TAO), using video conferencing to extend their services. This approach enables more students to receive counseling and can help those who are not able to go to the center physically. The counseling method can be tailored to suit individual needs.',\n",
       " \"Using online counseling to assist and evaluate students' emotional wellbeing is becoming more prevalent, with 9% of schools using remote counseling according to a 2015 survey. Although not every school believes that online counseling can replace face-to-face counseling, research has shown that the symptoms in students who use remote counseling decrease significantly.\",\n",
       " 'The articles listed discuss various efforts being made in different countries to improve mental health education and support for students. In the US, there are reports on new legislation to address teen suicide prevention and to regulate counselor to student ratios, as well as initiatives to make mental health education a required course in schools. In England, schools will be offering in-house mental health services to students and there have been debates in Parliament about the importance of mental health education. Overall, the articles highlight the increasing emphasis being placed on addressing mental health in education settings around the world.',\n",
       " 'The articles discuss various issues related to mental health and social emotional learning (SEL) in education systems around the world. One article focuses on the debate over whether to include SEL in the mandatory curriculum in schools in the UK. Another article reports on the development of a new emotional and sexual health education manual in England. Other articles discuss the increasing concern over student mental health in Hong Kong and Canada, and the efforts being made to address this issue through resources and programs such as online mental health courses and increased funding for school-based mental health initiatives. Overall, the articles highlight the importance of addressing the social and emotional wellbeing of students in education.']"
      ]
     },
     "execution_count": 83,
     "metadata": {},
     "output_type": "execute_result"
    }
   ],
   "source": [
    "articleFull"
   ]
  },
  {
   "cell_type": "code",
   "execution_count": 95,
   "id": "61d10bb1",
   "metadata": {},
   "outputs": [],
   "source": [
    "import gensim\n",
    "from gensim import corpora\n",
    "from gensim.utils import simple_preprocess\n",
    "from gensim.parsing.preprocessing import STOPWORDS"
   ]
  },
  {
   "cell_type": "code",
   "execution_count": 96,
   "id": "6993a8ee",
   "metadata": {},
   "outputs": [],
   "source": [
    "# 定義一個自定義的停用詞列表\n",
    "my_stop_words = ['and', 'the', 'a', 'of', 'in', 'is', 'are', 'am', 'there', 'to']"
   ]
  },
  {
   "cell_type": "code",
   "execution_count": 99,
   "id": "6d076d98",
   "metadata": {},
   "outputs": [],
   "source": [
    "# 創建一個用於存儲處理後文本的列表\n",
    "articleFull_  = []\n",
    "\n",
    "# 將文本轉換為小寫，刪除標點符號，過濾停用詞\n",
    "for text in articleFull:\n",
    "    articleFull_ .append([word for word in simple_preprocess(text) if word not in STOPWORDS and word not in my_stop_words])"
   ]
  },
  {
   "cell_type": "code",
   "execution_count": 101,
   "id": "38395c54",
   "metadata": {},
   "outputs": [],
   "source": [
    "# 創建詞典和文檔詞袋\n",
    "dictionary = corpora.Dictionary( articleFull_)\n",
    "corpus = [dictionary.doc2bow(text) for text in  articleFull_]"
   ]
  },
  {
   "cell_type": "code",
   "execution_count": 103,
   "id": "600d6f56",
   "metadata": {},
   "outputs": [],
   "source": [
    "# 創建LDA模型並訓練\n",
    "num_topics = 3\n",
    "lda_model = gensim.models.ldamodel.LdaModel(corpus=corpus, id2word=dictionary, num_topics=num_topics, random_state=42, passes=10)"
   ]
  },
  {
   "cell_type": "code",
   "execution_count": 104,
   "id": "1f6eee3d",
   "metadata": {},
   "outputs": [
    {
     "name": "stdout",
     "output_type": "stream",
     "text": [
      "Topic: 0 \n",
      "Words: 0.029*\"counseling\" + 0.025*\"students\" + 0.018*\"mental\" + 0.016*\"health\" + 0.012*\"university\" + 0.012*\"time\" + 0.011*\"counselors\" + 0.009*\"school\" + 0.009*\"universities\" + 0.008*\"student\"\n",
      "Topic: 1 \n",
      "Words: 0.042*\"health\" + 0.040*\"mental\" + 0.036*\"students\" + 0.020*\"stress\" + 0.011*\"academic\" + 0.010*\"college\" + 0.010*\"article\" + 0.010*\"education\" + 0.009*\"issues\" + 0.009*\"resources\"\n",
      "Topic: 2 \n",
      "Words: 0.041*\"mental\" + 0.038*\"health\" + 0.021*\"students\" + 0.018*\"education\" + 0.016*\"schools\" + 0.015*\"suicide\" + 0.009*\"prevention\" + 0.009*\"school\" + 0.008*\"services\" + 0.008*\"support\"\n"
     ]
    }
   ],
   "source": [
    "# 打印出每個主題的前10個詞\n",
    "for idx, topic in lda_model.print_topics(-1):\n",
    "    print('Topic: {} \\nWords: {}'.format(idx, topic))"
   ]
  },
  {
   "cell_type": "code",
   "execution_count": 106,
   "id": "4cc10173",
   "metadata": {},
   "outputs": [
    {
     "name": "stderr",
     "output_type": "stream",
     "text": [
      "C:\\Users\\Peggy\\AppData\\Roaming\\Python\\Python39\\site-packages\\pyLDAvis\\_prepare.py:243: FutureWarning: In a future version of pandas all arguments of DataFrame.drop except for the argument 'labels' will be keyword-only.\n",
      "  default_term_info = default_term_info.sort_values(\n"
     ]
    },
    {
     "data": {
      "text/html": [
       "\n",
       "<link rel=\"stylesheet\" type=\"text/css\" href=\"https://cdn.jsdelivr.net/gh/bmabey/pyLDAvis@3.4.0/pyLDAvis/js/ldavis.v1.0.0.css\">\n",
       "\n",
       "\n",
       "<div id=\"ldavis_el215230220490416484112796576\" style=\"background-color:white;\"></div>\n",
       "<script type=\"text/javascript\">\n",
       "\n",
       "var ldavis_el215230220490416484112796576_data = {\"mdsDat\": {\"x\": [0.06661290818745912, -0.09820430984776775, 0.03159140166030861], \"y\": [0.059958591691472905, 0.01617803998209147, -0.0761366316735644], \"topics\": [1, 2, 3], \"cluster\": [1, 1, 1], \"Freq\": [36.78660748235114, 34.11606654256485, 29.097325975084015]}, \"tinfo\": {\"Term\": [\"counseling\", \"stress\", \"time\", \"suicide\", \"health\", \"mental\", \"prevention\", \"counselors\", \"ministry\", \"study\", \"psychologists\", \"demand\", \"strategies\", \"states\", \"schools\", \"problems\", \"experience\", \"articles\", \"academic\", \"education\", \"united\", \"overall\", \"impact\", \"significant\", \"improve\", \"online\", \"increasing\", \"staff\", \"educators\", \"columbia\", \"study\", \"problems\", \"experience\", \"articles\", \"overall\", \"impact\", \"covid\", \"reports\", \"compared\", \"anxious\", \"discuss\", \"stress\", \"american\", \"specific\", \"affect\", \"canadian\", \"female\", \"depressed\", \"researchers\", \"reduce\", \"year\", \"groups\", \"sophomores\", \"access\", \"thoughts\", \"increase\", \"methods\", \"like\", \"group\", \"initiatives\", \"significant\", \"academic\", \"courses\", \"college\", \"improve\", \"health\", \"students\", \"mental\", \"levels\", \"psychological\", \"article\", \"issues\", \"resources\", \"related\", \"help\", \"education\", \"student\", \"universities\", \"support\", \"university\", \"schools\", \"teachers\", \"studies\", \"time\", \"ministry\", \"psychologists\", \"demand\", \"columbia\", \"tasks\", \"personnel\", \"center\", \"counseling\", \"administrative\", \"addictions\", \"working\", \"ratio\", \"handle\", \"turnover\", \"career\", \"held\", \"individual\", \"better\", \"challenges\", \"kaohsiung\", \"exploration\", \"faculty\", \"cases\", \"hiring\", \"remote\", \"medical\", \"director\", \"counselors\", \"staff\", \"seeking\", \"face\", \"university\", \"need\", \"increasing\", \"online\", \"universities\", \"british\", \"family\", \"students\", \"development\", \"growing\", \"professional\", \"counselor\", \"school\", \"course\", \"support\", \"student\", \"mental\", \"health\", \"high\", \"schools\", \"issues\", \"help\", \"training\", \"provide\", \"education\", \"services\", \"resources\", \"article\", \"states\", \"united\", \"prevention\", \"steps\", \"identifying\", \"taking\", \"policy\", \"require\", \"hotlines\", \"care\", \"promoting\", \"intervention\", \"experiences\", \"improving\", \"years\", \"living\", \"intelligence\", \"environment\", \"strategies\", \"suicide\", \"awareness\", \"implemented\", \"focus\", \"california\", \"act\", \"healthcare\", \"released\", \"green\", \"collaboration\", \"paper\", \"institutions\", \"schools\", \"education\", \"mental\", \"systems\", \"health\", \"students\", \"school\", \"services\", \"training\", \"include\", \"increased\", \"people\", \"young\", \"support\", \"provide\", \"educators\", \"measures\", \"help\", \"emotional\", \"student\", \"article\", \"resources\", \"counseling\", \"anxiety\", \"discusses\"], \"Freq\": [19.0, 14.0, 7.0, 9.0, 52.0, 54.0, 5.0, 7.0, 5.0, 5.0, 4.0, 4.0, 4.0, 3.0, 15.0, 4.0, 4.0, 4.0, 9.0, 18.0, 2.0, 3.0, 3.0, 5.0, 5.0, 6.0, 6.0, 4.0, 4.0, 2.0, 4.645290458760059, 3.9164181257542348, 3.909230086787574, 3.9084587328175973, 3.1786756445219204, 3.1773973766614882, 2.4459592145134734, 2.4459589328946456, 2.4447552940236412, 2.4447389601316156, 2.438537995157203, 12.109150003401275, 1.7145897673594983, 1.714268299467301, 1.713867978303255, 1.7135041267774391, 1.7131778713651655, 1.7123853959830866, 1.7121606641583178, 1.7121501034522666, 1.7118815798997393, 1.7117768176957118, 1.7112308995975738, 1.711151342278655, 1.711005182106907, 1.7098757497970891, 1.7098343518293686, 1.7089468300928292, 1.7087316733082136, 1.7082112417140125, 3.9186217930835765, 6.929996140437181, 3.1606455622948983, 6.1775010568984685, 3.9178377662663384, 25.163685400699777, 21.591163572226023, 24.412096566549668, 3.182187712926294, 3.1907990534498225, 6.110078693279591, 5.403368072326829, 5.380053412791807, 2.4709787944333943, 4.651098002231713, 6.08031665229563, 4.6278779666229095, 3.9176794964849853, 3.8969793861494018, 3.1835192067452236, 3.14693692098401, 2.4520005016123925, 2.4463422161195956, 6.69372421774984, 4.547106857357948, 3.826233420592779, 3.825283267478857, 2.392775966986238, 2.392051729882086, 2.391010165665945, 2.390679257475912, 16.091806718462134, 2.390008561160202, 1.6756561312527594, 1.6751899346314425, 1.6744961243656002, 1.674492076159645, 1.6743704993936936, 1.6739471354031308, 1.6738177233998464, 1.6736531834158521, 1.6735825356925658, 1.673483028178436, 1.6733987993771056, 1.6731382777357815, 1.6729866658933867, 1.6728563397790803, 1.6729950234798754, 1.672756179328506, 1.6728219953221037, 1.6726915386205083, 5.985703965480396, 3.110412406034543, 3.1112327553833143, 3.109440836605244, 6.711382230952773, 3.8381918209850685, 3.829433592694177, 3.829280283217027, 5.261606328552674, 2.3949771463276717, 2.3922452602442124, 13.859561183352195, 2.395089451396112, 2.394681496705638, 2.3945250531335542, 2.3909665495114574, 5.278423881964348, 3.1157769318619097, 4.556376987821265, 4.560302964074283, 10.278337462386158, 8.861823709512354, 3.1170689624981307, 4.549858070360162, 3.8164234422772134, 3.83175308411934, 3.1197841334086127, 3.118737606875494, 3.8339845597117947, 3.118221264735246, 3.1154105039293003, 3.119959120375718, 2.9596070337286013, 2.277302490196574, 4.3662787117822575, 1.5975190736296494, 1.5969872490467565, 1.5957341478148972, 1.5955158491379402, 1.5954304230740493, 1.5952793960301952, 1.595223150707816, 1.5948648512977288, 1.5945546666980728, 1.594093120923935, 1.593713437153656, 1.5937245748412558, 1.593723572449372, 1.593504382757407, 1.5932338483256063, 3.658609198510327, 7.100284755055791, 2.2956611861749145, 2.28440053850396, 2.28075650987504, 2.2802183368102154, 0.9131070011615402, 0.9131067784077883, 0.9131031586593183, 0.9131021005789963, 0.9130933018057924, 0.9130931904289165, 2.280171781276048, 7.807238337768802, 8.498404025555272, 19.546944682843144, 2.299768988115492, 18.14135959759173, 9.858196285486143, 4.350129064762472, 3.682240921305941, 2.984798701049451, 2.2899929942015977, 2.281890326472705, 2.2814739997102227, 2.2812078089765864, 3.678174106055731, 2.97039744822909, 2.2866383226965223, 2.2823307106404034, 2.9813068132331453, 2.2970796820676314, 2.994142998191975, 2.98606126931577, 2.299975926351097, 2.290517356533799, 2.2879828643435762, 2.2870637823628366], \"Total\": [19.0, 14.0, 7.0, 9.0, 52.0, 54.0, 5.0, 7.0, 5.0, 5.0, 4.0, 4.0, 4.0, 3.0, 15.0, 4.0, 4.0, 4.0, 9.0, 18.0, 2.0, 3.0, 3.0, 5.0, 5.0, 6.0, 6.0, 4.0, 4.0, 2.0, 5.127765904272465, 4.392406397901589, 4.391882584790574, 4.391902227641541, 3.656305221423464, 3.656181713380797, 2.9205736200814685, 2.920608145504343, 2.9204806094544002, 2.9205651767251366, 2.92011650323587, 14.611625480290064, 2.1849915435872345, 2.1849917341101226, 2.1849703180068833, 2.1849582718934553, 2.184890676134579, 2.184850139128263, 2.1848160612132506, 2.1848358619391846, 2.1847734416298494, 2.184807850225601, 2.184760093037928, 2.1848149862436905, 2.1848008632379843, 2.184759139181638, 2.184738059120314, 2.184678381183211, 2.184691499939764, 2.184576217697934, 5.077546579031152, 9.426314935867188, 4.340046309024445, 9.409004780187413, 5.762354712523825, 52.16686870780386, 45.308921041064366, 54.23737871177897, 5.026412139207661, 5.06100437584287, 12.216099082971077, 10.830560649663733, 10.795439843072204, 3.6401863391349956, 11.464157899584198, 18.412705237562697, 12.182323928889168, 10.111828647945321, 12.131530480026399, 11.500191721473566, 15.504033329112975, 5.044414603909351, 4.324727100115583, 7.186986484702197, 5.029095824509126, 4.309840760546374, 4.309681699272294, 2.87119544881668, 2.8712937294931025, 2.8713104229017428, 2.871170240847524, 19.32806571671062, 2.8712810938706674, 2.151926500900267, 2.1518969742909904, 2.15188711457272, 2.151957937796396, 2.152022805639468, 2.1518831186267695, 2.151922423851184, 2.1518612742541188, 2.151814226519801, 2.1518822800314434, 2.151815857256769, 2.1518854674631482, 2.151832636962275, 2.1517772188189297, 2.1519965391820053, 2.151720883358059, 2.1518068434379227, 2.1518716897453953, 7.838398074882431, 4.275511346075992, 4.326045152829946, 4.325485849594948, 11.500191721473566, 6.415598114665887, 6.516524687617279, 6.51672534608752, 10.111828647945321, 3.556322266821153, 3.5563440214080857, 45.308921041064366, 3.606738062467707, 3.6067025172385243, 3.6066990202431586, 3.6063766286533783, 12.06491909748225, 5.797414835719407, 12.131530480026399, 12.182323928889168, 54.23737871177897, 52.16686870780386, 6.482292925551297, 15.504033329112975, 10.830560649663733, 11.464157899584198, 7.064886070509037, 7.801892891987741, 18.412705237562697, 9.220750436285503, 10.795439843072204, 12.216099082971077, 3.4537137162700917, 2.76858844351063, 5.5565848309964085, 2.08326761905989, 2.0833009048288584, 2.0833889089631343, 2.083391787514225, 2.0833983285908846, 2.0833927112065895, 2.083423335018572, 2.0834093396380964, 2.0834322012071858, 2.0834907615134535, 2.0834650284072724, 2.0835194710337817, 2.0835240614113415, 2.083475174296658, 2.083520671257979, 4.873457826125685, 9.768413255474913, 3.502945555451447, 3.487401338160217, 3.4876369750039116, 3.487632586518221, 1.3982826330797198, 1.3982827903650992, 1.3982829992391885, 1.398282885425877, 1.3982832869876023, 1.3982838055491875, 3.504114021607161, 15.504033329112975, 18.412705237562697, 54.23737871177897, 4.238558441270026, 52.16686870780386, 45.308921041064366, 12.06491909748225, 9.220750436285503, 7.064886070509037, 4.2393175636237554, 4.2399282720071705, 4.23993916836058, 4.2399191766456665, 12.131530480026399, 7.801892891987741, 4.925961459751189, 4.942573858500373, 11.464157899584198, 5.694115192388534, 12.182323928889168, 12.216099082971077, 10.795439843072204, 19.32806571671062, 6.397661472274109, 5.678189588450089], \"Category\": [\"Default\", \"Default\", \"Default\", \"Default\", \"Default\", \"Default\", \"Default\", \"Default\", \"Default\", \"Default\", \"Default\", \"Default\", \"Default\", \"Default\", \"Default\", \"Default\", \"Default\", \"Default\", \"Default\", \"Default\", \"Default\", \"Default\", \"Default\", \"Default\", \"Default\", \"Default\", \"Default\", \"Default\", \"Default\", \"Default\", \"Topic1\", \"Topic1\", \"Topic1\", \"Topic1\", \"Topic1\", \"Topic1\", \"Topic1\", \"Topic1\", \"Topic1\", \"Topic1\", \"Topic1\", \"Topic1\", \"Topic1\", \"Topic1\", \"Topic1\", \"Topic1\", \"Topic1\", \"Topic1\", \"Topic1\", \"Topic1\", \"Topic1\", \"Topic1\", \"Topic1\", \"Topic1\", \"Topic1\", \"Topic1\", \"Topic1\", \"Topic1\", \"Topic1\", \"Topic1\", \"Topic1\", \"Topic1\", \"Topic1\", \"Topic1\", \"Topic1\", \"Topic1\", \"Topic1\", \"Topic1\", \"Topic1\", \"Topic1\", \"Topic1\", \"Topic1\", \"Topic1\", \"Topic1\", \"Topic1\", \"Topic1\", \"Topic1\", \"Topic1\", \"Topic1\", \"Topic1\", \"Topic1\", \"Topic1\", \"Topic1\", \"Topic2\", \"Topic2\", \"Topic2\", \"Topic2\", \"Topic2\", \"Topic2\", \"Topic2\", \"Topic2\", \"Topic2\", \"Topic2\", \"Topic2\", \"Topic2\", \"Topic2\", \"Topic2\", \"Topic2\", \"Topic2\", \"Topic2\", \"Topic2\", \"Topic2\", \"Topic2\", \"Topic2\", \"Topic2\", \"Topic2\", \"Topic2\", \"Topic2\", \"Topic2\", \"Topic2\", \"Topic2\", \"Topic2\", \"Topic2\", \"Topic2\", \"Topic2\", \"Topic2\", \"Topic2\", \"Topic2\", \"Topic2\", \"Topic2\", \"Topic2\", \"Topic2\", \"Topic2\", \"Topic2\", \"Topic2\", \"Topic2\", \"Topic2\", \"Topic2\", \"Topic2\", \"Topic2\", \"Topic2\", \"Topic2\", \"Topic2\", \"Topic2\", \"Topic2\", \"Topic2\", \"Topic2\", \"Topic2\", \"Topic2\", \"Topic2\", \"Topic2\", \"Topic2\", \"Topic2\", \"Topic3\", \"Topic3\", \"Topic3\", \"Topic3\", \"Topic3\", \"Topic3\", \"Topic3\", \"Topic3\", \"Topic3\", \"Topic3\", \"Topic3\", \"Topic3\", \"Topic3\", \"Topic3\", \"Topic3\", \"Topic3\", \"Topic3\", \"Topic3\", \"Topic3\", \"Topic3\", \"Topic3\", \"Topic3\", \"Topic3\", \"Topic3\", \"Topic3\", \"Topic3\", \"Topic3\", \"Topic3\", \"Topic3\", \"Topic3\", \"Topic3\", \"Topic3\", \"Topic3\", \"Topic3\", \"Topic3\", \"Topic3\", \"Topic3\", \"Topic3\", \"Topic3\", \"Topic3\", \"Topic3\", \"Topic3\", \"Topic3\", \"Topic3\", \"Topic3\", \"Topic3\", \"Topic3\", \"Topic3\", \"Topic3\", \"Topic3\", \"Topic3\", \"Topic3\", \"Topic3\", \"Topic3\", \"Topic3\", \"Topic3\"], \"logprob\": [30.0, 29.0, 28.0, 27.0, 26.0, 25.0, 24.0, 23.0, 22.0, 21.0, 20.0, 19.0, 18.0, 17.0, 16.0, 15.0, 14.0, 13.0, 12.0, 11.0, 10.0, 9.0, 8.0, 7.0, 6.0, 5.0, 4.0, 3.0, 2.0, 1.0, -4.869, -5.0397, -5.0415, -5.0417, -5.2484, -5.2488, -5.5104, -5.5104, -5.5109, -5.5109, -5.5135, -3.9109, -5.8657, -5.8659, -5.8661, -5.8663, -5.8665, -5.867, -5.8671, -5.8671, -5.8673, -5.8673, -5.8676, -5.8677, -5.8678, -5.8684, -5.8685, -5.869, -5.8691, -5.8694, -5.0391, -4.469, -5.2541, -4.5839, -5.0393, -3.1794, -3.3326, -3.2098, -5.2473, -5.2446, -4.5949, -4.7178, -4.7222, -5.5002, -4.8677, -4.5998, -4.8728, -5.0394, -5.0446, -5.2469, -5.2584, -5.5079, -5.5103, -4.4283, -4.815, -4.9876, -4.9879, -5.457, -5.4573, -5.4578, -5.4579, -3.5512, -5.4582, -5.8133, -5.8136, -5.814, -5.814, -5.814, -5.8143, -5.8144, -5.8145, -5.8145, -5.8146, -5.8146, -5.8148, -5.8149, -5.815, -5.8149, -5.815, -5.815, -5.8151, -4.5401, -5.1947, -5.1945, -5.195, -4.4257, -4.9845, -4.9868, -4.9868, -4.669, -5.4561, -5.4573, -3.7005, -5.4561, -5.4562, -5.4563, -5.4578, -4.6659, -5.193, -4.813, -4.8121, -3.9994, -4.1477, -5.1926, -4.8144, -4.9902, -4.9862, -5.1917, -5.1921, -4.9856, -5.1922, -5.1931, -5.1917, -5.0853, -5.3474, -4.6965, -5.7019, -5.7022, -5.703, -5.7032, -5.7032, -5.7033, -5.7034, -5.7036, -5.7038, -5.7041, -5.7043, -5.7043, -5.7043, -5.7044, -5.7046, -4.8733, -4.2102, -5.3393, -5.3443, -5.3459, -5.3461, -6.2613, -6.2613, -6.2613, -6.2613, -6.2613, -6.2613, -5.3461, -4.1153, -4.0305, -3.1975, -5.3376, -3.2722, -3.8821, -4.7002, -4.8668, -5.0768, -5.3418, -5.3454, -5.3455, -5.3457, -4.8679, -5.0817, -5.3433, -5.3452, -5.078, -5.3387, -5.0737, -5.0764, -5.3375, -5.3416, -5.3427, -5.3431], \"loglift\": [30.0, 29.0, 28.0, 27.0, 26.0, 25.0, 24.0, 23.0, 22.0, 21.0, 20.0, 19.0, 18.0, 17.0, 16.0, 15.0, 14.0, 13.0, 12.0, 11.0, 10.0, 9.0, 8.0, 7.0, 6.0, 5.0, 4.0, 3.0, 2.0, 1.0, 0.9012, 0.8853, 0.8836, 0.8834, 0.86, 0.8597, 0.8227, 0.8227, 0.8222, 0.8222, 0.8198, 0.8122, 0.7576, 0.7574, 0.7572, 0.757, 0.7568, 0.7564, 0.7563, 0.7562, 0.7561, 0.756, 0.7557, 0.7557, 0.7556, 0.755, 0.7549, 0.7544, 0.7543, 0.7541, 0.7409, 0.6924, 0.6829, 0.5793, 0.6142, 0.271, 0.2588, 0.2017, 0.5429, 0.5387, 0.3072, 0.3047, 0.3036, 0.6126, 0.0979, -0.1079, 0.0321, 0.0518, -0.1356, -0.2843, -0.5946, 0.2787, 0.4303, 1.0043, 0.9747, 0.9564, 0.9562, 0.8931, 0.8928, 0.8923, 0.8923, 0.8922, 0.8919, 0.8252, 0.825, 0.8246, 0.8245, 0.8244, 0.8242, 0.8241, 0.8241, 0.8241, 0.824, 0.8239, 0.8238, 0.8237, 0.8236, 0.8236, 0.8236, 0.8236, 0.8235, 0.8057, 0.7573, 0.7458, 0.7453, 0.5368, 0.5617, 0.5438, 0.5437, 0.4221, 0.68, 0.6789, -0.1091, 0.666, 0.6659, 0.6658, 0.6644, 0.2487, 0.4545, 0.0961, 0.0928, -0.5879, -0.6973, 0.3432, -0.1506, 0.0323, -0.0205, 0.258, 0.1585, -0.4937, -0.0088, -0.1674, -0.2895, 1.0801, 1.0392, 0.9935, 0.969, 0.9687, 0.9679, 0.9677, 0.9677, 0.9676, 0.9675, 0.9673, 0.9671, 0.9668, 0.9666, 0.9665, 0.9665, 0.9664, 0.9662, 0.9478, 0.9155, 0.8119, 0.8115, 0.8098, 0.8096, 0.8084, 0.8084, 0.8084, 0.8084, 0.8084, 0.8084, 0.8048, 0.5485, 0.4614, 0.214, 0.6231, 0.1783, -0.2907, 0.2144, 0.3166, 0.3729, 0.6187, 0.615, 0.6148, 0.6147, 0.0411, 0.2689, 0.4671, 0.4618, -0.1123, 0.3267, -0.1688, -0.1743, -0.3117, -0.8983, 0.2063, 0.3252]}, \"token.table\": {\"Topic\": [1, 2, 3, 1, 3, 2, 2, 1, 1, 1, 2, 3, 1, 1, 2, 3, 1, 1, 3, 2, 2, 3, 2, 3, 1, 3, 2, 2, 2, 2, 3, 1, 2, 3, 2, 1, 1, 2, 3, 1, 2, 2, 3, 1, 2, 1, 3, 1, 2, 1, 1, 2, 2, 1, 1, 2, 3, 1, 2, 3, 2, 3, 1, 2, 3, 3, 1, 3, 2, 1, 2, 2, 2, 3, 1, 2, 3, 3, 1, 1, 1, 2, 2, 1, 2, 3, 3, 2, 1, 2, 3, 1, 2, 3, 2, 3, 3, 1, 2, 3, 1, 3, 3, 1, 3, 1, 1, 3, 1, 2, 2, 1, 1, 3, 3, 3, 1, 2, 3, 2, 1, 3, 1, 3, 1, 2, 3, 2, 1, 2, 3, 1, 2, 1, 2, 3, 1, 2, 1, 3, 1, 3, 2, 3, 1, 3, 1, 1, 2, 3, 1, 2, 3, 1, 2, 3, 2, 2, 1, 1, 2, 3, 2, 1, 3, 1, 1, 2, 3, 1, 2, 3, 1, 2, 3, 1, 2, 1, 2, 3, 1, 3, 1, 1, 2, 3, 3, 3, 1, 3, 1, 2, 3, 1, 2, 3, 1, 2, 3, 1, 2, 3, 1, 1, 3, 1, 2, 3, 1, 3, 3, 2, 1, 2, 3, 1, 2, 1, 2, 3, 2, 3, 1, 2, 3, 1, 2, 3, 2, 1, 3, 1, 3], \"Freq\": [0.7426019656276236, 0.1060859950896605, 0.212171990179321, 0.9154093195957799, 0.7151629980539044, 0.9293997723264674, 0.6965531881463665, 0.915344242215788, 0.9153353503219869, 0.31261422766232755, 0.31261422766232755, 0.31261422766232755, 0.6847989614950566, 0.49115515184088865, 0.24557757592044432, 0.24557757592044432, 0.9107670873966625, 0.28547403440049285, 0.5709480688009857, 0.9294482652597129, 0.5623787300321678, 0.2811893650160839, 0.28672745055359217, 0.5734549011071843, 0.9153492886922857, 0.9599585290150222, 0.9294185091596916, 0.9294642505313643, 0.6965800813711526, 0.9294188713570223, 0.7151626636075686, 0.6376869966772925, 0.21256233222576418, 0.21256233222576418, 0.6965739656714314, 0.6848187909638739, 0.051738234681984865, 0.8278117549117578, 0.10347646936396973, 0.27728662393572584, 0.5545732478714517, 0.765462527251143, 0.255154175750381, 0.34498135059741986, 0.5174720258961297, 0.6912368639389793, 0.2304122879796598, 0.6847969817464182, 0.928142790841239, 0.9153945912271966, 0.2772588368437841, 0.5545176736875682, 0.9294234454270066, 0.6849041802899778, 0.3522249422717703, 0.3522249422717703, 0.3522249422717703, 0.3258619481812888, 0.21724129878752585, 0.4344825975750517, 0.4060121087713545, 0.4060121087713545, 0.3512398208370372, 0.1756199104185186, 0.3512398208370372, 0.9599136824461879, 0.9107711608348334, 0.9599274625759293, 0.9294174946763288, 0.231187902300881, 0.693563706902643, 0.9294403131757422, 0.5623752898933909, 0.28118764494669546, 0.9153776076056673, 0.28672708976509187, 0.5734541795301837, 0.715162868989438, 0.9154610616900114, 0.9154123095051503, 0.2772615693200145, 0.554523138640029, 0.9293861951818627, 0.47923137077729466, 0.17252329347982606, 0.3450465869596521, 0.7151629176090301, 0.9294015331745574, 0.4361419341739308, 0.34891354733914465, 0.26168516050435847, 0.3085328020454902, 0.4627992030682353, 0.1542664010227451, 0.9293695243395788, 0.9599726394558168, 0.9600149432874645, 0.8205281452562053, 0.2867464633501435, 0.573492926700287, 0.6941606686076532, 0.3470803343038266, 0.9599393187458115, 0.4717740461722821, 0.4717740461722821, 0.9154327193931114, 0.47170609304982547, 0.47170609304982547, 0.3069120575573674, 0.6138241151147348, 0.9294279440449723, 0.9155093714732292, 0.2853788415085164, 0.5707576830170328, 0.9599346441337667, 0.9599544438456681, 0.4616566179475889, 0.3693252943580711, 0.18466264717903555, 0.9294475608845495, 0.5968471977454888, 0.39789813183032585, 0.9154665589343223, 0.9599121205469718, 0.2023237342786841, 0.4046474685573682, 0.4046474685573682, 0.9294514542971792, 0.4424992610269311, 0.18437469209455462, 0.36874938418910924, 0.9154415522038836, 0.9942145018658566, 0.1558701125174949, 0.6234804500699797, 0.3117402250349898, 0.30690260733494784, 0.6138052146698957, 0.8205004282525535, 0.7151623983853849, 0.4717048807974578, 0.4717048807974578, 0.696546073196364, 0.9599730650691856, 0.17996665765303896, 0.7198666306121558, 0.9106625475072033, 0.27726183814821936, 0.5545236762964387, 0.9599649775724893, 0.25634804626117424, 0.38452206939176137, 0.38452206939176137, 0.5927677151040546, 0.1975892383680182, 0.1975892383680182, 0.9281085363100297, 0.9294167832763481, 0.9154005730320032, 0.5494224233793628, 0.2747112116896814, 0.7151628107787222, 0.9294885853776361, 0.684788886546994, 0.9599700511196573, 0.9154088691976109, 0.4631585255147031, 0.2778951153088219, 0.18526341020588125, 0.1657698641690326, 0.4144246604225815, 0.3315397283380652, 0.19349803604760682, 0.3224967267460114, 0.5159947627936182, 0.2311580126124748, 0.6934740378374243, 0.21690208555364418, 0.32535312833046626, 0.43380417110728836, 0.7877820395619574, 0.19694550989048934, 0.9154323197193622, 0.9153352705082595, 0.7016704569743127, 0.2338901523247709, 0.8686301895456208, 0.9600302820923862, 0.20519311660792244, 0.8207724664316898, 0.8212638639135021, 0.13687731065225037, 0.06843865532612518, 0.4104307215262104, 0.4104307215262104, 0.24625843291572624, 0.4855555924640308, 0.3089899224771105, 0.22070708748365037, 0.4624569258824558, 0.2312284629412279, 0.2312284629412279, 0.975083514603112, 0.20474154273510672, 0.7165953995728735, 0.3297193216128569, 0.4121491520160711, 0.3297193216128569, 0.4718585405184899, 0.4718585405184899, 0.9599743914329296, 0.6965501228441298, 0.39647811630115176, 0.39647811630115176, 0.19823905815057588, 0.9154152369913933, 0.9739826302581471, 0.1415450992443178, 0.4246352977329534, 0.4246352977329534, 0.9293581809444185, 0.7223897812214938, 0.39557632345884164, 0.49447040432355205, 0.09889408086471041, 0.26086521622055164, 0.6086855045146206, 0.17391014414703443, 0.9294125248068451, 0.915426726584516, 0.9599142354103647, 0.471707104941152, 0.471707104941152], \"Term\": [\"academic\", \"academic\", \"academic\", \"access\", \"act\", \"addictions\", \"administrative\", \"affect\", \"american\", \"anxiety\", \"anxiety\", \"anxiety\", \"anxious\", \"article\", \"article\", \"article\", \"articles\", \"awareness\", \"awareness\", \"better\", \"british\", \"british\", \"california\", \"california\", \"canadian\", \"care\", \"career\", \"cases\", \"center\", \"challenges\", \"collaboration\", \"college\", \"college\", \"college\", \"columbia\", \"compared\", \"counseling\", \"counseling\", \"counseling\", \"counselor\", \"counselor\", \"counselors\", \"counselors\", \"course\", \"course\", \"courses\", \"courses\", \"covid\", \"demand\", \"depressed\", \"development\", \"development\", \"director\", \"discuss\", \"discusses\", \"discusses\", \"discusses\", \"education\", \"education\", \"education\", \"educators\", \"educators\", \"emotional\", \"emotional\", \"emotional\", \"environment\", \"experience\", \"experiences\", \"exploration\", \"face\", \"face\", \"faculty\", \"family\", \"family\", \"female\", \"focus\", \"focus\", \"green\", \"group\", \"groups\", \"growing\", \"growing\", \"handle\", \"health\", \"health\", \"health\", \"healthcare\", \"held\", \"help\", \"help\", \"help\", \"high\", \"high\", \"high\", \"hiring\", \"hotlines\", \"identifying\", \"impact\", \"implemented\", \"implemented\", \"improve\", \"improve\", \"improving\", \"include\", \"include\", \"increase\", \"increased\", \"increased\", \"increasing\", \"increasing\", \"individual\", \"initiatives\", \"institutions\", \"institutions\", \"intelligence\", \"intervention\", \"issues\", \"issues\", \"issues\", \"kaohsiung\", \"levels\", \"levels\", \"like\", \"living\", \"measures\", \"measures\", \"measures\", \"medical\", \"mental\", \"mental\", \"mental\", \"methods\", \"ministry\", \"need\", \"need\", \"need\", \"online\", \"online\", \"overall\", \"paper\", \"people\", \"people\", \"personnel\", \"policy\", \"prevention\", \"prevention\", \"problems\", \"professional\", \"professional\", \"promoting\", \"provide\", \"provide\", \"provide\", \"psychological\", \"psychological\", \"psychological\", \"psychologists\", \"ratio\", \"reduce\", \"related\", \"related\", \"released\", \"remote\", \"reports\", \"require\", \"researchers\", \"resources\", \"resources\", \"resources\", \"school\", \"school\", \"school\", \"schools\", \"schools\", \"schools\", \"seeking\", \"seeking\", \"services\", \"services\", \"services\", \"significant\", \"significant\", \"sophomores\", \"specific\", \"staff\", \"staff\", \"states\", \"steps\", \"strategies\", \"strategies\", \"stress\", \"stress\", \"stress\", \"student\", \"student\", \"student\", \"students\", \"students\", \"students\", \"studies\", \"studies\", \"studies\", \"study\", \"suicide\", \"suicide\", \"support\", \"support\", \"support\", \"systems\", \"systems\", \"taking\", \"tasks\", \"teachers\", \"teachers\", \"teachers\", \"thoughts\", \"time\", \"training\", \"training\", \"training\", \"turnover\", \"united\", \"universities\", \"universities\", \"universities\", \"university\", \"university\", \"university\", \"working\", \"year\", \"years\", \"young\", \"young\"]}, \"R\": 30, \"lambda.step\": 0.01, \"plot.opts\": {\"xlab\": \"PC1\", \"ylab\": \"PC2\"}, \"topic.order\": [2, 1, 3]};\n",
       "\n",
       "function LDAvis_load_lib(url, callback){\n",
       "  var s = document.createElement('script');\n",
       "  s.src = url;\n",
       "  s.async = true;\n",
       "  s.onreadystatechange = s.onload = callback;\n",
       "  s.onerror = function(){console.warn(\"failed to load library \" + url);};\n",
       "  document.getElementsByTagName(\"head\")[0].appendChild(s);\n",
       "}\n",
       "\n",
       "if(typeof(LDAvis) !== \"undefined\"){\n",
       "   // already loaded: just create the visualization\n",
       "   !function(LDAvis){\n",
       "       new LDAvis(\"#\" + \"ldavis_el215230220490416484112796576\", ldavis_el215230220490416484112796576_data);\n",
       "   }(LDAvis);\n",
       "}else if(typeof define === \"function\" && define.amd){\n",
       "   // require.js is available: use it to load d3/LDAvis\n",
       "   require.config({paths: {d3: \"https://d3js.org/d3.v5\"}});\n",
       "   require([\"d3\"], function(d3){\n",
       "      window.d3 = d3;\n",
       "      LDAvis_load_lib(\"https://cdn.jsdelivr.net/gh/bmabey/pyLDAvis@3.4.0/pyLDAvis/js/ldavis.v3.0.0.js\", function(){\n",
       "        new LDAvis(\"#\" + \"ldavis_el215230220490416484112796576\", ldavis_el215230220490416484112796576_data);\n",
       "      });\n",
       "    });\n",
       "}else{\n",
       "    // require.js not available: dynamically load d3 & LDAvis\n",
       "    LDAvis_load_lib(\"https://d3js.org/d3.v5.js\", function(){\n",
       "         LDAvis_load_lib(\"https://cdn.jsdelivr.net/gh/bmabey/pyLDAvis@3.4.0/pyLDAvis/js/ldavis.v3.0.0.js\", function(){\n",
       "                 new LDAvis(\"#\" + \"ldavis_el215230220490416484112796576\", ldavis_el215230220490416484112796576_data);\n",
       "            })\n",
       "         });\n",
       "}\n",
       "</script>"
      ],
      "text/plain": [
       "<IPython.core.display.HTML object>"
      ]
     },
     "execution_count": 106,
     "metadata": {},
     "output_type": "execute_result"
    }
   ],
   "source": [
    "# 輸出主題模型分析結果\n",
    "import pyLDAvis.gensim\n",
    "pyLDAvis.enable_notebook()\n",
    "vis = pyLDAvis.gensim.prepare(lda_model, corpus, dictionary)\n",
    "pyLDAvis.display(vis)"
   ]
  },
  {
   "cell_type": "code",
   "execution_count": null,
   "id": "034d4dc1",
   "metadata": {},
   "outputs": [],
   "source": []
  }
 ],
 "metadata": {
  "kernelspec": {
   "display_name": "Python 3 (ipykernel)",
   "language": "python",
   "name": "python3"
  },
  "language_info": {
   "codemirror_mode": {
    "name": "ipython",
    "version": 3
   },
   "file_extension": ".py",
   "mimetype": "text/x-python",
   "name": "python",
   "nbconvert_exporter": "python",
   "pygments_lexer": "ipython3",
   "version": "3.9.13"
  }
 },
 "nbformat": 4,
 "nbformat_minor": 5
}
