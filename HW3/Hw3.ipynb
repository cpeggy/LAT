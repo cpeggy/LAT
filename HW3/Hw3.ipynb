{
 "cells": [
  {
   "cell_type": "code",
   "execution_count": null,
   "id": "1ac9a8c1",
   "metadata": {},
   "outputs": [],
   "source": [
    "#教育文字內容視覺化"
   ]
  },
  {
   "cell_type": "code",
   "execution_count": null,
   "id": "e5218625",
   "metadata": {},
   "outputs": [],
   "source": [
    "###爬蟲載txt"
   ]
  },
  {
   "cell_type": "code",
   "execution_count": 65,
   "id": "cf63f43c",
   "metadata": {},
   "outputs": [
    {
     "data": {
      "text/plain": [
       "3759"
      ]
     },
     "execution_count": 65,
     "metadata": {},
     "output_type": "execute_result"
    }
   ],
   "source": [
    "import requests \n",
    "from bs4 import BeautifulSoup\n",
    "import pandas as pd\n",
    "\n",
    "##來源：新聞實驗室\n",
    "url1 = 'https://newslab.pts.org.tw/video/189-%E5%A4%A7%E5%AD%B8%E7%94%9F%E5%BF%83%E7%90%86%E5%81%A5%E5%BA%B7%E9%9A%B1%E6%86%82%EF%BC%8C%E4%B8%8D%E5%BF%AB%E6%A8%82%E7%9A%84%E4%BB%96%E5%80%91%E8%83%BD%E8%A2%AB%E6%8E%A5%E4%BD%8F%E5%97%8E%EF%BC%9F'\n",
    "r1 = requests.get(url1)\n",
    "web_content1 = r1.text\n",
    "soup1 = BeautifulSoup(web_content1,'lxml')\n",
    "\n",
    "#找出所有的<p>\n",
    "articleContent1 = soup1.find_all('p')\n",
    "\n",
    "# 將所有tag p中的text取出並放進list。\n",
    "article1 = []\n",
    "for p in articleContent1:\n",
    "    article1.append(p.text)\n",
    "    articleAll1 = '\\n'.join(article1)\n",
    "    \n",
    "#下載成txt.\n",
    "with open('output1.txt', 'w', encoding='utf-8') as f:\n",
    "    f.write(articleAll1)\n",
    "\n",
    "len(articleAll1)"
   ]
  },
  {
   "cell_type": "code",
   "execution_count": 66,
   "id": "8e64e89a",
   "metadata": {},
   "outputs": [
    {
     "data": {
      "text/plain": [
       "1412"
      ]
     },
     "execution_count": 66,
     "metadata": {},
     "output_type": "execute_result"
    }
   ],
   "source": [
    "##來源：heho\n",
    "url2 = 'https://heho.com.tw/archives/239504'\n",
    "r2 = requests.get(url2)\n",
    "web_content2 = r2.text\n",
    "soup2 = BeautifulSoup(web_content2,'lxml')\n",
    "\n",
    "#找出所有的<p>\n",
    "articleContent2 = soup2.find_all('p')\n",
    "\n",
    "# 將所有tag p中的text取出並放進list。\n",
    "article2 = []\n",
    "for p in articleContent2:\n",
    "    article2.append(p.text)\n",
    "    articleAll2 = '\\n'.join(article2)\n",
    "    \n",
    "#下載成txt.\n",
    "with open('output2.txt', 'w', encoding='utf-8') as f:\n",
    "    f.write(articleAll2)\n",
    "    \n",
    "len(articleAll2)"
   ]
  },
  {
   "cell_type": "code",
   "execution_count": 67,
   "id": "7028de5a",
   "metadata": {},
   "outputs": [
    {
     "data": {
      "text/plain": [
       "6768"
      ]
     },
     "execution_count": 67,
     "metadata": {},
     "output_type": "execute_result"
    }
   ],
   "source": [
    "##來源：國家教育研究院\n",
    "url3 = 'https://epaper.naer.edu.tw/edm.php?grp_no=2&edm_no=191&content_no=3414'\n",
    "r3 = requests.get(url3)\n",
    "web_content3 = r3.text\n",
    "soup3 = BeautifulSoup(web_content3,'lxml')\n",
    "\n",
    "#找出所有的<p>\n",
    "articleContent3 = soup3.find_all('p')\n",
    "\n",
    "#將所有tag p中的text取出並放進list。\n",
    "article3 = []\n",
    "articleAll3 = ''\n",
    "for p in articleContent3:\n",
    "    article3.append(p.text)\n",
    "    articleAll3 = '\\n'.join(article3)\n",
    "    \n",
    "#下載成txt.\n",
    "with open('output3.txt', 'w', encoding='utf-8') as f:\n",
    "    f.write(articleAll3)\n",
    "\n",
    "len(articleAll3)"
   ]
  },
  {
   "cell_type": "code",
   "execution_count": 68,
   "id": "2a665f51",
   "metadata": {},
   "outputs": [],
   "source": [
    "import openai"
   ]
  },
  {
   "cell_type": "code",
   "execution_count": 69,
   "id": "24f4f115",
   "metadata": {},
   "outputs": [],
   "source": [
    "keyfile = open(\"key.txt\", \"r\")\n",
    "key = keyfile.readline()\n",
    "openai.api_key = key"
   ]
  },
  {
   "cell_type": "code",
   "execution_count": 70,
   "id": "6bc3b153",
   "metadata": {},
   "outputs": [],
   "source": [
    "data1 = [articleAll1[0:400], articleAll1[400:800], articleAll1[800:1200], articleAll1[1200:1600], articleAll1[1600:2000], articleAll1[2000:2400], \n",
    "        articleAll1[2400:2800], articleAll1[2800:3200], articleAll1[3200:3600], articleAll1[3600:4000]]"
   ]
  },
  {
   "cell_type": "code",
   "execution_count": 71,
   "id": "a17a973c",
   "metadata": {},
   "outputs": [],
   "source": [
    "data2 = [articleAll2[0:400], articleAll2[400:800], articleAll2[800:1200], articleAll2[1200:1600]]"
   ]
  },
  {
   "cell_type": "code",
   "execution_count": 72,
   "id": "f9e8586e",
   "metadata": {},
   "outputs": [],
   "source": [
    "data3 = [articleAll3[0:400], articleAll3[400:800], articleAll3[800:1200], articleAll3[1200:1600], articleAll3[1600:2000], articleAll3[2000:2400], \n",
    "        articleAll3[2400:2800], articleAll3[2800:3200], articleAll3[3200:3600], articleAll3[3600:4000], articleAll3[4000:4400], articleAll3[4400:4800],\n",
    "        articleAll3[4800:5200], articleAll3[5200:5600], articleAll3[5600:6000], articleAll3[6000:6400], articleAll3[6400:6800]]"
   ]
  },
  {
   "cell_type": "code",
   "execution_count": 75,
   "id": "fa2e8a1b",
   "metadata": {},
   "outputs": [],
   "source": [
    "def chatgptfn(sub_list):\n",
    "    result = ''\n",
    "    response = openai.ChatCompletion.create(\n",
    "        model=\"gpt-3.5-turbo\",\n",
    "        messages=[\n",
    "            {\"role\": \"system\", \"content\": \"You are an assistant\"},\n",
    "            {\"role\": \"user\", \"content\": f\"{sub_list} :give me a summary\"}\n",
    "        ]\n",
    "    )\n",
    "    for choice in response.choices:\n",
    "        result += choice.message.content\n",
    "    return result"
   ]
  },
  {
   "cell_type": "code",
   "execution_count": 76,
   "id": "d382d868",
   "metadata": {},
   "outputs": [
    {
     "data": {
      "text/plain": [
       "'The article discusses the prevalence of mental health struggles among college students in Taiwan, citing statistics on national healthcare data and suicide rates. Many students rely on campus counseling services, but some are forced to interrupt their studies or drop out due to their condition. The article raises questions about what factors contribute to this situation and whether the current support systems are adequate to help students in need. The story includes a quote from a college student sharing her personal experience of feeling disconnected and unhappy, likely due to the stress and pressure of college life.'"
      ]
     },
     "execution_count": 76,
     "metadata": {},
     "output_type": "execute_result"
    }
   ],
   "source": [
    "data1[0] = chatgptfn(data1[0])\n",
    "data1[0]"
   ]
  },
  {
   "cell_type": "code",
   "execution_count": 77,
   "id": "5b7c9382",
   "metadata": {},
   "outputs": [],
   "source": [
    "for i in range(0,10):\n",
    "    data1[i] = chatgptfn(data1[i])"
   ]
  },
  {
   "cell_type": "code",
   "execution_count": 78,
   "id": "615901d8",
   "metadata": {},
   "outputs": [],
   "source": [
    "for j in range(0,4):\n",
    "    data2[j] = chatgptfn(data2[j])"
   ]
  },
  {
   "cell_type": "code",
   "execution_count": 79,
   "id": "b5c9f9f3",
   "metadata": {},
   "outputs": [],
   "source": [
    "for k in range(0,17):\n",
    "    data3[k] = chatgptfn(data3[k])"
   ]
  },
  {
   "cell_type": "code",
   "execution_count": 80,
   "id": "481010a0",
   "metadata": {},
   "outputs": [
    {
     "data": {
      "text/plain": [
       "list"
      ]
     },
     "execution_count": 80,
     "metadata": {},
     "output_type": "execute_result"
    }
   ],
   "source": [
    "type(data1)"
   ]
  },
  {
   "cell_type": "code",
   "execution_count": 81,
   "id": "9775784b",
   "metadata": {},
   "outputs": [],
   "source": [
    "articleFull = data1+ data2+ data3"
   ]
  },
  {
   "cell_type": "code",
   "execution_count": 82,
   "id": "4ed00fe6",
   "metadata": {},
   "outputs": [],
   "source": [
    "#Data = ''\n",
    "#for i in range(0,21):\n",
    "    #Data = Data+data[i]"
   ]
  },
  {
   "cell_type": "code",
   "execution_count": 83,
   "id": "0b42b955",
   "metadata": {},
   "outputs": [
    {
     "data": {
      "text/plain": [
       "['The article highlights the high rates of mental health issues and suicide among college students in Taiwan. Many students seek help from campus counseling services, but some still struggle and are forced to interrupt or drop out of their studies. The article questions the current support systems and explores factors that contribute to the situation, including stress and pressure from college life. The story ends with a student sharing her personal experience of feeling unhappy and disconnected.',\n",
       " '小魚在高一時突然發現自己的狀態不太對，開始難以專注、記憶力下降，後來被確診罹患憂鬱症。經過長達6年的治療，她現在正努力維持在軌道上前進，希望完成學業、拿到文憑。她坦言，獲得正確的醫療幫助和支援非常重要，並且鼓勵有相似問題的人們及時尋求幫助。',\n",
       " 'The article discusses the experiences of a college student named \"小魚\" who has been living with depression for six years. She explains how academic pressure and feeling out of place within her major contributed to her mental health struggles. Despite taking breaks from school to focus on treatment and recovery, she still experiences ups and downs in her mental health. She hopes for more understanding and empathy towards those living with mental illness.',\n",
       " 'A survey conducted by P# News Laboratory revealed that 6 out of 10 college students who were diagnosed with mental illnesses attributed the cause to academic stress and the feeling that their chosen major did not align with their interests. The other students cited issues related to relationships or family. More and more students are seeking counseling from universities to help with career exploration, relationships, and family issues. Experts believe that college is a time when students are trying to figure out who they are and what they want to do, which can cause stress and anxiety.',\n",
       " \"The article discusses the importance of self-exploration in understanding one's personality and career path, as well as the challenges and anxieties faced by some students in this process. It also highlights the increasing demand for counseling services in universities, exemplified by the crowded schedule of the student counseling center at Kaohsiung Medical University. The article stresses the importance of an individual's pace in pursuing their goals, as well as seeking help and guidance when needed.\",\n",
       " 'An increasing number of students in Taiwanese universities are seeking counseling services, leading to long wait times and overwhelming pressure on support staff. For example, at National Taiwan University, there were over 10,000 counseling sessions held in 2019 with only 62 professional counselors available to handle the demand. While the law requires universities to allocate one counselor for every 1,200 students, the growth of students seeking mental health support suggests that more resources may be necessary. Some universities have integrated part-time counselors to augment their full-time staff to better deal with the increasing demand.',\n",
       " 'According to the director of the Student Counseling Center at Fu Jen Catholic University, schools may not necessarily hire all full-time psychologists due to personnel cost considerations, and part-time staff provide more scheduling flexibility but they still need to comply with regulations. Most schools already employ professional counselors with the required ratio of 1:1200 students set by the Ministry of Education, but there is an increasing demand for adjusting the ratio due to the growing need for counseling services and additional administrative tasks for counselors. For example, Kaohsiung Medical University has five full-time psychologists and three to five part-time psychologists to serve a student population of around 6500, but they still face high caseloads during peak periods, sometimes reaching 10 to 15 cases per week per psychologist.',\n",
       " 'School counseling centers in Taiwan face challenges due to a shortage of personnel and high turnover rates among psychologists. Many schools only have one or two full-time counselors who are responsible for both counseling and administrative tasks. This may result in limited counseling resources for those in need. To alleviate the workload, some suggest hiring additional personnel to handle administrative tasks and activities, allowing counselors to focus on counseling work. The salaries of school counselors are also lower than those of private psychologists, which may contribute to high turnover rates.',\n",
       " 'Many young students have been committing suicide in recent years, bringing attention to the mental health support provided by educational institutions. Schools have implemented a three-tiered counseling system to provide appropriate levels of care for students in need. While counseling is not a cure-all, counselors do their best to help students who require assistance. Although counselors may not be able to help everyone, they try to make resources available to help all students.',\n",
       " \"The article discusses the growing concern for the mental health of university students in Taiwan, particularly in light of the increasing number of cases of student self-harm. The government and universities have implemented various measures to address this issue, including establishing counseling centers, providing mental health training for faculty, and creating high-risk student lists. However, there are still concerns about whether these measures are sufficient to meet the growing demand for mental health support and whether the safety net put in place can effectively help every distressed student. The article concludes that these issues still need to be discussed and addressed in order to better support university students' mental health.\",\n",
       " 'A study by Rutgers University found that academic stress has a bigger negative impact on the mental health of certain college students, particularly female students and sophomores. The researchers suggest that universities should provide tailored mental health resources to help these students cope with stress and improve their overall mental health. This highlights the need for additional support and resources for different groups of students, especially during times of increased stress like during the COVID-19 pandemic. According to the American Psychological Association, up to 87% of students report experiencing academic stress.',\n",
       " 'This study seeks to determine the relationship between academic stress and the psychological health of college students, as well as the impact of COVID-19 related stress on academic stress levels. The researchers used the SWEMWBS and PAS surveys to evaluate the mental health of 843 college students aged 18 to 30. The study found that academic stress has a greater detrimental impact on the psychological well-being of female students compared to male students, and that second-year college students experience more academic stress and poorer mental health compared to other year levels. Additionally, the study found that stress related to COVID-19 had a significant impact on academic stress levels.',\n",
       " \"A recent study found that college sophomores experience more academic stress than other grade levels due to advanced coursework and heavier workload, along with a less extensive support system compared to upperclassmen. The study suggests that universities should provide tailored mental health resources to enhance students' resilience and promote stress management strategies such as mindfulness meditation and therapy, as well as organize peer support groups to reduce stress. To reduce stigmatization of mental health problems, universities can distribute confidential assessments in class to help students understand their specific sources of stress and mental health conditions.\",\n",
       " 'The article discusses four methods suggested by a neuroscientist to prevent anxious thoughts from lingering in the brain. The methods include focusing on the present moment, visualizing positive images, practicing gratitude, and engaging in physical exercise. The article also emphasizes the importance of seeking professional help if anxiety persists.',\n",
       " 'The rapid social, economic, and technological developments of the past century have brought significant progress to various aspects of human life. However, the accompanying high competition, uncertainty, and insecurity have led to increased stress, anxiety, and depression among people. External factors such as academic pressure, social relationships, and family environment can cause psychological and emotional distress, which has been spreading among young people, including teenagers and university students. Studies from the National Institute of Mental Health and Centers for Disease Control in the United States show that 18% of adults and 49% of adolescents suffer from mental illness, and suicide rates have increased in many states. Research from British institutions on mental health education for children ages 5-16 also reveals concerning data.',\n",
       " 'The prevalence of mental health issues among children and young people is a growing concern. In various studies, approximately 10% of children have been diagnosed with mental health problems, and there has been a significant increase in the number of young people being admitted to hospitals due to self-harm. Additionally, research has found that a significant proportion of high school students have had suicidal thoughts, with over 50% of those having made suicide plans or attempts. In Taiwan, a survey found that around 13% of high school students experience significant depression. Mental health issues also affect university students with the Canadian Association of College and University Student Services reporting increasing rates of mental health concerns among this group.',\n",
       " \"According to studies, a significant percentage of university students globally experience anxiety, depression, and other mental health issues. Reports indicate that over 20% of Canadian students feel anxious or depressed, while over 50% of American students are dealing with psychological problems. Such problems could affect academic performance, concentration, and overall quality of life. As a result, governments, schools, and colleges have been implementing measures to improve students' mental health.\",\n",
       " \"This article summarizes strategies proposed by different countries to improve school mental health policy and plans. One approach is to enact laws and policies that require educational institutions to develop such plans. For example, California's education bureau introduced a model youth suicide prevention policy that emphasizes the importance of parental education, teacher training in identifying and addressing student mental health issues, and early prevention measures such as reducing suicide publicity and promoting mental health awareness. Schools should also prominently display suicide prevention hotlines and inform staff about students' potential suicidal tendencies to ensure quick intervention.\",\n",
       " 'In order to prevent suicide events, there are various measures being taken in California by both the government and the school systems. Efforts include the implementation of suicide prevention hotlines on student IDs, legislation requiring training for certain professions in suicide risk assessment and intervention, the requirement for schools to provide information on student mental health services, and periodic reviews of suicide prevention policies at schools. These measures are aimed at improving the mental health support available to students and reducing the risk of suicide.',\n",
       " 'This article discusses two ways to improve the mental health of students: allowing educational institutions to update policies more frequently and providing education for teachers on mental health. The article mentions how teachers are often the first to notice when a student is struggling with mental health issues and therefore, it is important for them to have access to resources to help these students. Specific examples from various countries are provided, such as a free online course for teachers in Canada to improve their knowledge of mental health.',\n",
       " \"The resource course for Assistant Teachers in Canada provides basic knowledge about mental health, and it was developed by scholars from the University of British Columbia and Dalhousie University, together with psychiatrist Stan Kutcher. The course covers a wide range of topics, including mental illness, depression, and human brain development. Through case studies, teachers can learn to observe changes in students' behavior, even minor ones such as social withdrawal. The course will be available online for free to all students in Canada's education program, regardless of whether it is required by their school.\\n\\nIn addition to this course, the British Columbia Ministry of Education is working with the Ministry of Mental Health and Addictions to provide training opportunities for educators. This initiative aims to integrate school and community resources to provide training for educators on mental health issues. The conference was held in February 2019, and both ministries are committed to working together to support mental health in schools.\",\n",
       " 'The British Columbia Ministry of Education and the Ministry of Mental Health and Addictions have announced a $3 million investment in school mental health programs. The funds will go towards training for education professionals, counseling for parents and students, and development of new resources for families and communities. The goal is to enable schools to provide immediate support to students in need and to help educators recognize warning signs of mental health issues before they escalate. Additionally, the BC Ministry of Children and Family Development and Anxiety Canada have partnered to promote a program aimed at reducing anxiety among school professionals.',\n",
       " 'This passage discusses three strategies used in different countries to address mental health concerns among educators and students. In Japan, a program called \"The School Mental Health Act\" was implemented to promote mental health education and support in schools. In Canada, the \"Everyday Anxiety Strategies for Educators\" program was established to provide anxiety prevention strategies and resources for teachers and school counsellors. In the UK, a green paper was released to strengthen communication and collaboration between the education and healthcare systems in identifying and providing necessary mental health services for students. These strategies aim to promote mental health awareness and support for students and educators in schools.',\n",
       " 'The UK government is taking steps to improve the mental health of young people in schools. These steps include training professionals to provide mental health services, encouraging schools to hire these experts, and setting up mental health teams within schools. In addition, wait times for public mental health services will be reduced. The plan will begin in 2018 and it is expected to be fully implemented by 2020. Another step is to make mental health courses mandatory in all levels of education, from elementary school to college.',\n",
       " 'The education systems in England and the United States have both increased their focus on mental health education. In England, mental health education is now included in the mandatory Relationship and Sex Education curriculum for primary and secondary schools, and students are taught about self-care and how to recognize and address mental health issues. In the United States, many universities now include training on alcohol and drug use, as well as education on sexual harassment.',\n",
       " \"The training and courses for mental health awareness and cognition vary between universities, with some offering talks or group discussions and others using performances or videos to introduce mental illness symptoms and available resources on campus. Some universities also use online courses, like Kognito, to increase students' knowledge and understanding of mental health. Kognito provides a 30-minute simulation course, where students interact with a virtual student who appears to be depressed or anxious and practice having a conversation. These courses aim to help students face mental health problems, access resources, and understand mental health issues from a broader perspective.\",\n",
       " 'The article discusses the importance of promoting emotional intelligence and mental health awareness among students. It suggests implementing emotional intelligence education in schools, providing resources for students to seek help, and strengthening on-campus counseling services. The need for more mental health professionals is highlighted, and the article uses examples from California State University to support these points. The focus is on improving the mental health of students and creating a supportive environment for them.',\n",
       " 'The lack of psychological counseling staff in public universities has become a widespread problem. The California Faculty Association supports a proposal where one professional counselor is allocated for every 1,000 students. In the University of Florida, the waiting time for an appointment with a counselor is around 4-5 weeks, despite hiring 37 counselors to address the issue. Thus, the Director established an online counseling program called \"Therapist Assisted Online\" (TAO), using video conferencing to extend their services. This approach enables more students to receive counseling and can help those who are not able to go to the center physically. The counseling method can be tailored to suit individual needs.',\n",
       " \"Using online counseling to assist and evaluate students' emotional wellbeing is becoming more prevalent, with 9% of schools using remote counseling according to a 2015 survey. Although not every school believes that online counseling can replace face-to-face counseling, research has shown that the symptoms in students who use remote counseling decrease significantly.\",\n",
       " 'The articles listed discuss various efforts being made in different countries to improve mental health education and support for students. In the US, there are reports on new legislation to address teen suicide prevention and to regulate counselor to student ratios, as well as initiatives to make mental health education a required course in schools. In England, schools will be offering in-house mental health services to students and there have been debates in Parliament about the importance of mental health education. Overall, the articles highlight the increasing emphasis being placed on addressing mental health in education settings around the world.',\n",
       " 'The articles discuss various issues related to mental health and social emotional learning (SEL) in education systems around the world. One article focuses on the debate over whether to include SEL in the mandatory curriculum in schools in the UK. Another article reports on the development of a new emotional and sexual health education manual in England. Other articles discuss the increasing concern over student mental health in Hong Kong and Canada, and the efforts being made to address this issue through resources and programs such as online mental health courses and increased funding for school-based mental health initiatives. Overall, the articles highlight the importance of addressing the social and emotional wellbeing of students in education.']"
      ]
     },
     "execution_count": 83,
     "metadata": {},
     "output_type": "execute_result"
    }
   ],
   "source": [
    "articleFull"
   ]
  },
  {
   "cell_type": "code",
   "execution_count": 95,
   "id": "61d10bb1",
   "metadata": {},
   "outputs": [],
   "source": [
    "import gensim\n",
    "from gensim import corpora\n",
    "from gensim.utils import simple_preprocess\n",
    "from gensim.parsing.preprocessing import STOPWORDS"
   ]
  },
  {
   "cell_type": "code",
   "execution_count": 96,
   "id": "191ab957",
   "metadata": {},
   "outputs": [],
   "source": [
    "# 定義一個自定義的停用詞列表\n",
    "my_stop_words = ['and', 'the', 'a', 'of', 'in', 'is', 'are', 'am', 'there', 'to']"
   ]
  },
  {
   "cell_type": "code",
   "execution_count": 99,
   "id": "74ae5d91",
   "metadata": {},
   "outputs": [],
   "source": [
    "# 創建一個用於存儲處理後文本的列表\n",
    "articleFull_  = []\n",
    "\n",
    "# 將文本轉換為小寫，刪除標點符號，過濾停用詞\n",
    "for text in articleFull:\n",
    "    articleFull_ .append([word for word in simple_preprocess(text) if word not in STOPWORDS and word not in my_stop_words])"
   ]
  },
  {
   "cell_type": "code",
   "execution_count": 101,
   "id": "38395c54",
   "metadata": {},
   "outputs": [],
   "source": [
    "# 創建詞典和文檔詞袋\n",
    "dictionary = corpora.Dictionary( articleFull_)\n",
    "corpus = [dictionary.doc2bow(text) for text in  articleFull_]"
   ]
  },
  {
   "cell_type": "code",
   "execution_count": 103,
   "id": "abfce9e3",
   "metadata": {},
   "outputs": [],
   "source": [
    "# 創建LDA模型並訓練\n",
    "num_topics = 3\n",
    "lda_model = gensim.models.ldamodel.LdaModel(corpus=corpus, id2word=dictionary, num_topics=num_topics, random_state=42, passes=10)"
   ]
  },
  {
   "cell_type": "code",
   "execution_count": 104,
   "id": "c8724249",
   "metadata": {},
   "outputs": [
    {
     "name": "stdout",
     "output_type": "stream",
     "text": [
      "Topic: 0 \n",
      "Words: 0.029*\"counseling\" + 0.025*\"students\" + 0.018*\"mental\" + 0.016*\"health\" + 0.012*\"university\" + 0.012*\"time\" + 0.011*\"counselors\" + 0.009*\"school\" + 0.009*\"universities\" + 0.008*\"student\"\n",
      "Topic: 1 \n",
      "Words: 0.042*\"health\" + 0.040*\"mental\" + 0.036*\"students\" + 0.020*\"stress\" + 0.011*\"academic\" + 0.010*\"college\" + 0.010*\"article\" + 0.010*\"education\" + 0.009*\"issues\" + 0.009*\"resources\"\n",
      "Topic: 2 \n",
      "Words: 0.041*\"mental\" + 0.038*\"health\" + 0.021*\"students\" + 0.018*\"education\" + 0.016*\"schools\" + 0.015*\"suicide\" + 0.009*\"prevention\" + 0.009*\"school\" + 0.008*\"services\" + 0.008*\"support\"\n"
     ]
    }
   ],
   "source": [
    "# 打印出每個主題的前10個詞\n",
    "for idx, topic in lda_model.print_topics(-1):\n",
    "    print('Topic: {} \\nWords: {}'.format(idx, topic))"
   ]
  },
  {
   "cell_type": "code",
   "execution_count": 108,
   "id": "4cc10173",
   "metadata": {},
   "outputs": [
    {
     "name": "stderr",
     "output_type": "stream",
     "text": [
      "C:\\Users\\Peggy\\AppData\\Roaming\\Python\\Python39\\site-packages\\pyLDAvis\\_prepare.py:243: FutureWarning: In a future version of pandas all arguments of DataFrame.drop except for the argument 'labels' will be keyword-only.\n",
      "  default_term_info = default_term_info.sort_values(\n"
     ]
    },
    {
     "data": {
      "text/html": [
       "\n",
       "<link rel=\"stylesheet\" type=\"text/css\" href=\"https://cdn.jsdelivr.net/gh/bmabey/pyLDAvis@3.4.0/pyLDAvis/js/ldavis.v1.0.0.css\">\n",
       "\n",
       "\n",
       "<div id=\"ldavis_el215230220621737603306918110\" style=\"background-color:white;\"></div>\n",
       "<script type=\"text/javascript\">\n",
       "\n",
       "var ldavis_el215230220621737603306918110_data = {\"mdsDat\": {\"x\": [0.06661290818745912, -0.09820430984776775, 0.03159140166030861], \"y\": [0.059958591691472905, 0.01617803998209147, -0.0761366316735644], \"topics\": [1, 2, 3], \"cluster\": [1, 1, 1], \"Freq\": [36.786474721689785, 34.11620398950204, 29.09732128880817]}, \"tinfo\": {\"Term\": [\"counseling\", \"stress\", \"time\", \"suicide\", \"health\", \"mental\", \"prevention\", \"counselors\", \"ministry\", \"study\", \"psychologists\", \"demand\", \"strategies\", \"states\", \"schools\", \"problems\", \"experience\", \"articles\", \"academic\", \"education\", \"united\", \"overall\", \"impact\", \"significant\", \"improve\", \"online\", \"increasing\", \"staff\", \"educators\", \"columbia\", \"study\", \"problems\", \"experience\", \"articles\", \"overall\", \"impact\", \"covid\", \"reports\", \"compared\", \"anxious\", \"discuss\", \"stress\", \"american\", \"specific\", \"affect\", \"canadian\", \"female\", \"depressed\", \"researchers\", \"reduce\", \"year\", \"groups\", \"sophomores\", \"access\", \"thoughts\", \"increase\", \"methods\", \"like\", \"group\", \"initiatives\", \"significant\", \"academic\", \"courses\", \"college\", \"improve\", \"health\", \"students\", \"mental\", \"levels\", \"psychological\", \"article\", \"issues\", \"resources\", \"related\", \"help\", \"education\", \"student\", \"universities\", \"support\", \"university\", \"schools\", \"teachers\", \"studies\", \"time\", \"ministry\", \"psychologists\", \"demand\", \"columbia\", \"tasks\", \"personnel\", \"center\", \"counseling\", \"administrative\", \"addictions\", \"working\", \"ratio\", \"handle\", \"turnover\", \"career\", \"held\", \"individual\", \"better\", \"challenges\", \"kaohsiung\", \"exploration\", \"faculty\", \"cases\", \"hiring\", \"remote\", \"medical\", \"director\", \"counselors\", \"staff\", \"seeking\", \"face\", \"university\", \"need\", \"increasing\", \"online\", \"universities\", \"british\", \"family\", \"students\", \"development\", \"growing\", \"professional\", \"counselor\", \"school\", \"course\", \"support\", \"student\", \"mental\", \"health\", \"high\", \"schools\", \"issues\", \"help\", \"training\", \"provide\", \"education\", \"services\", \"resources\", \"article\", \"states\", \"united\", \"prevention\", \"steps\", \"identifying\", \"taking\", \"policy\", \"require\", \"hotlines\", \"care\", \"promoting\", \"intervention\", \"experiences\", \"improving\", \"years\", \"living\", \"intelligence\", \"environment\", \"strategies\", \"suicide\", \"awareness\", \"implemented\", \"focus\", \"california\", \"act\", \"healthcare\", \"released\", \"green\", \"collaboration\", \"paper\", \"institutions\", \"schools\", \"education\", \"mental\", \"systems\", \"health\", \"students\", \"school\", \"services\", \"training\", \"include\", \"increased\", \"people\", \"young\", \"support\", \"provide\", \"educators\", \"measures\", \"help\", \"emotional\", \"student\", \"article\", \"resources\", \"counseling\", \"anxiety\", \"discusses\"], \"Freq\": [19.0, 14.0, 7.0, 9.0, 52.0, 54.0, 5.0, 7.0, 5.0, 5.0, 4.0, 4.0, 4.0, 3.0, 15.0, 4.0, 4.0, 4.0, 9.0, 18.0, 2.0, 3.0, 3.0, 5.0, 5.0, 6.0, 6.0, 4.0, 4.0, 2.0, 4.645273737922716, 3.916404028510794, 3.9092160154176567, 3.908444664224188, 3.1786642028006997, 3.177385939541424, 2.445950410223077, 2.4459501286052627, 2.4447464940667865, 2.444730160233555, 2.438529217579669, 12.109106416217788, 1.7145835956514286, 1.714262128916363, 1.713861809193283, 1.7134979589771595, 1.71317170473925, 1.7123792322097058, 1.712154501193865, 1.7121439405258272, 1.711875417939857, 1.7117706561129236, 1.7112247399798313, 1.7111451829472812, 1.7109990233016403, 1.7098695950572418, 1.709828197238534, 1.7089406786966512, 1.7087255226864977, 1.708205092965603, 3.9186076879079814, 6.929971195745503, 3.160634185473402, 6.177478820831364, 3.917823663912867, 25.16359482339481, 21.59108585430131, 24.41200869460721, 3.1821762585632962, 3.190787568090093, 6.110056699900944, 5.403348622770457, 5.3800340471571255, 2.4709699000844045, 4.651081260489974, 6.0802947660461815, 4.62786130846226, 3.9176653947012094, 3.8969653588761832, 3.1835077475894815, 3.1469255935071057, 2.4519916755762345, 2.4463334104505754, 6.693751248476013, 4.547125219572515, 3.8262488717623375, 3.8252987148114888, 2.3927856295402745, 2.3920613895114937, 2.391019821089288, 2.3906889115629757, 16.091871700706232, 2.390018212538847, 1.6756628979196508, 1.6751966994157297, 1.6745028863481295, 1.6744988381258266, 1.6743772608689216, 1.673953895168722, 1.6738244826428437, 1.673659941994401, 1.6735892939858237, 1.6734897860698605, 1.6734055569283959, 1.6731450342350283, 1.6729934217803917, 1.6728630951397998, 1.67300177940063, 1.6727629342847556, 1.6728287505441328, 1.6726982933157246, 5.9857281370655375, 3.1104249665618817, 3.1112453192234035, 3.109453393209172, 6.711409332985876, 3.83820732044527, 3.8294490567867325, 3.829295746690485, 5.26162757607278, 2.394986817770553, 2.3922549206551382, 13.859617151299341, 2.3950991232925056, 2.3946911669546207, 2.394534722750784, 2.3909762047586693, 5.2784451973974225, 3.1157895140523797, 4.556395387470652, 4.560321379577623, 10.278378968566637, 8.861859495499688, 3.117081549906104, 4.549876443684731, 3.8164388538319285, 3.8317685575785103, 3.1197967317810416, 3.118750201021819, 3.8340000421821525, 3.118233856796468, 3.115423084640054, 3.119971719454782, 2.9596065849345914, 2.2773021448670407, 4.366278049680935, 1.5975188313822895, 1.5969870068800422, 1.5957339058382027, 1.5955156071943484, 1.5954301811434115, 1.5952791541224594, 1.595222908808609, 1.5948646094528542, 1.5945544249002346, 1.5940928791960853, 1.5937131954833816, 1.5937243331692925, 1.5937233307775607, 1.5935041411188333, 1.5932336067280568, 3.658608643719818, 7.100283678370531, 2.2956608380614734, 2.2844001920980803, 2.2807561640217404, 2.2802179910385236, 0.9131068626982417, 0.9131066399445235, 0.9131030201966024, 0.9131019621164408, 0.9130931633445712, 0.9130930519677121, 2.280171435511416, 7.807237153881293, 8.498402736859585, 19.54694171874974, 2.2997686393791446, 18.141356846640868, 9.858194790591925, 4.350128405110078, 3.6822403629319242, 2.9847982484353834, 2.2899926469476797, 2.2818899804474735, 2.281473653748123, 2.2812074630548516, 3.678173548298405, 2.970396997798825, 2.286637975951306, 2.282330364548392, 2.9813063611485866, 2.2970793337390902, 2.994142544160941, 2.986060816510247, 2.29997557758337, 2.2905170092003666, 2.287982517394474, 2.287063435553103], \"Total\": [19.0, 14.0, 7.0, 9.0, 52.0, 54.0, 5.0, 7.0, 5.0, 5.0, 4.0, 4.0, 4.0, 3.0, 15.0, 4.0, 4.0, 4.0, 9.0, 18.0, 2.0, 3.0, 3.0, 5.0, 5.0, 6.0, 6.0, 4.0, 4.0, 2.0, 5.127750124965974, 4.392393247839018, 4.391869457426469, 4.391889109317576, 3.6562947201506577, 3.6561712135618247, 2.920565752105635, 2.9206002805937814, 2.920472744833811, 2.920557319741282, 2.9201086661168367, 14.611588040560555, 2.1849863092062276, 2.1849865028034907, 2.1849650886765883, 2.1849530449708294, 2.1848854464132095, 2.184844913437823, 2.1848108346736432, 2.1848306372323325, 2.1847682140318607, 2.184802626632564, 2.184754870493369, 2.1848097692798474, 2.1847956464213696, 2.18475392953885, 2.184732848067659, 2.1846731733136893, 2.184686295260055, 2.18457100790765, 5.077533326411089, 9.426293327345899, 4.34003577500156, 9.408988818037395, 5.762341350984906, 52.166811165535364, 45.308897796192575, 54.23732938192359, 5.0264014205828005, 5.060996608670203, 12.216089235865972, 10.830556367405478, 10.795432709380549, 3.640181168978257, 11.46415617921707, 18.41269754508792, 12.182325232200824, 10.111835652271111, 12.13153429464524, 11.500207120925143, 15.50403919107313, 5.044412415841712, 4.32472203013263, 7.187012563356795, 5.029113258281863, 4.309855275518577, 4.309696215948719, 2.8712041874062497, 2.871302458388474, 2.871319144094317, 2.87117896687618, 19.32812694740097, 2.8712898099325854, 2.151932346014207, 2.151902817814769, 2.1518929539869998, 2.151963773641837, 2.152028637442206, 2.1518889545962474, 2.1519282570238545, 2.151867109392123, 2.1518200635620364, 2.1518881129958203, 2.1518216929785594, 2.1518912979740317, 2.1518384691384433, 2.1517830529000985, 2.1520023632148177, 2.1517267195606955, 2.1518126758013394, 2.151877518039405, 7.8384210700082635, 4.2755228695755685, 4.326054156830844, 4.325494869537444, 11.500207120925143, 6.41560984681464, 6.516531323979127, 6.51673197140643, 10.111835652271111, 3.5563309038431825, 3.556352639347106, 45.308897796192575, 3.606744181307357, 3.606708635172202, 3.6067051373607053, 3.606382738348448, 12.064930983503002, 5.79741859346949, 12.13153429464524, 12.182325232200824, 54.23732938192359, 52.166811165535364, 6.482296588439144, 15.50403919107313, 10.830556367405478, 11.46415617921707, 7.0648947596322635, 7.8018988705898105, 18.41269754508792, 9.22075375808558, 10.795432709380549, 12.216089235865972, 3.4537133343081994, 2.7685881679689417, 5.556581762161678, 2.083267462478386, 2.0833007484570905, 2.0833887493656036, 2.083391631635945, 2.083398172327446, 2.0833925600286674, 2.0834231745401373, 2.0834091913918336, 2.083432052096276, 2.0834906022049724, 2.0834648858864897, 2.0835193097968303, 2.0835238987998275, 2.0834750326196234, 2.08352052007589, 4.873454736914402, 9.76840452318254, 3.502942728247615, 3.4874039648873376, 3.487639600306318, 3.4876352252060583, 1.3982825799190846, 1.3982827371780702, 1.3982829460672281, 1.3982828322272396, 1.3982832338109168, 1.398283752308787, 3.504111135033692, 15.50403919107313, 18.41269754508792, 54.23732938192359, 4.2385529774907695, 52.166811165535364, 45.308897796192575, 12.064930983503002, 9.22075375808558, 7.0648947596322635, 4.23931205381372, 4.2399227295491295, 4.239933631495891, 4.239913651618607, 12.13153429464524, 7.8018988705898105, 4.925969885669774, 4.942576779963572, 11.46415617921707, 5.69410990856918, 12.182325232200824, 12.216089235865972, 10.795432709380549, 19.32812694740097, 6.397664578793686, 5.678189855841339], \"Category\": [\"Default\", \"Default\", \"Default\", \"Default\", \"Default\", \"Default\", \"Default\", \"Default\", \"Default\", \"Default\", \"Default\", \"Default\", \"Default\", \"Default\", \"Default\", \"Default\", \"Default\", \"Default\", \"Default\", \"Default\", \"Default\", \"Default\", \"Default\", \"Default\", \"Default\", \"Default\", \"Default\", \"Default\", \"Default\", \"Default\", \"Topic1\", \"Topic1\", \"Topic1\", \"Topic1\", \"Topic1\", \"Topic1\", \"Topic1\", \"Topic1\", \"Topic1\", \"Topic1\", \"Topic1\", \"Topic1\", \"Topic1\", \"Topic1\", \"Topic1\", \"Topic1\", \"Topic1\", \"Topic1\", \"Topic1\", \"Topic1\", \"Topic1\", \"Topic1\", \"Topic1\", \"Topic1\", \"Topic1\", \"Topic1\", \"Topic1\", \"Topic1\", \"Topic1\", \"Topic1\", \"Topic1\", \"Topic1\", \"Topic1\", \"Topic1\", \"Topic1\", \"Topic1\", \"Topic1\", \"Topic1\", \"Topic1\", \"Topic1\", \"Topic1\", \"Topic1\", \"Topic1\", \"Topic1\", \"Topic1\", \"Topic1\", \"Topic1\", \"Topic1\", \"Topic1\", \"Topic1\", \"Topic1\", \"Topic1\", \"Topic1\", \"Topic2\", \"Topic2\", \"Topic2\", \"Topic2\", \"Topic2\", \"Topic2\", \"Topic2\", \"Topic2\", \"Topic2\", \"Topic2\", \"Topic2\", \"Topic2\", \"Topic2\", \"Topic2\", \"Topic2\", \"Topic2\", \"Topic2\", \"Topic2\", \"Topic2\", \"Topic2\", \"Topic2\", \"Topic2\", \"Topic2\", \"Topic2\", \"Topic2\", \"Topic2\", \"Topic2\", \"Topic2\", \"Topic2\", \"Topic2\", \"Topic2\", \"Topic2\", \"Topic2\", \"Topic2\", \"Topic2\", \"Topic2\", \"Topic2\", \"Topic2\", \"Topic2\", \"Topic2\", \"Topic2\", \"Topic2\", \"Topic2\", \"Topic2\", \"Topic2\", \"Topic2\", \"Topic2\", \"Topic2\", \"Topic2\", \"Topic2\", \"Topic2\", \"Topic2\", \"Topic2\", \"Topic2\", \"Topic2\", \"Topic2\", \"Topic2\", \"Topic2\", \"Topic2\", \"Topic2\", \"Topic3\", \"Topic3\", \"Topic3\", \"Topic3\", \"Topic3\", \"Topic3\", \"Topic3\", \"Topic3\", \"Topic3\", \"Topic3\", \"Topic3\", \"Topic3\", \"Topic3\", \"Topic3\", \"Topic3\", \"Topic3\", \"Topic3\", \"Topic3\", \"Topic3\", \"Topic3\", \"Topic3\", \"Topic3\", \"Topic3\", \"Topic3\", \"Topic3\", \"Topic3\", \"Topic3\", \"Topic3\", \"Topic3\", \"Topic3\", \"Topic3\", \"Topic3\", \"Topic3\", \"Topic3\", \"Topic3\", \"Topic3\", \"Topic3\", \"Topic3\", \"Topic3\", \"Topic3\", \"Topic3\", \"Topic3\", \"Topic3\", \"Topic3\", \"Topic3\", \"Topic3\", \"Topic3\", \"Topic3\", \"Topic3\", \"Topic3\", \"Topic3\", \"Topic3\", \"Topic3\", \"Topic3\", \"Topic3\", \"Topic3\"], \"logprob\": [30.0, 29.0, 28.0, 27.0, 26.0, 25.0, 24.0, 23.0, 22.0, 21.0, 20.0, 19.0, 18.0, 17.0, 16.0, 15.0, 14.0, 13.0, 12.0, 11.0, 10.0, 9.0, 8.0, 7.0, 6.0, 5.0, 4.0, 3.0, 2.0, 1.0, -4.869, -5.0397, -5.0415, -5.0417, -5.2484, -5.2488, -5.5104, -5.5104, -5.5109, -5.5109, -5.5135, -3.9109, -5.8657, -5.8659, -5.8661, -5.8663, -5.8665, -5.867, -5.8671, -5.8671, -5.8673, -5.8673, -5.8676, -5.8677, -5.8678, -5.8684, -5.8685, -5.869, -5.8691, -5.8694, -5.0391, -4.469, -5.2541, -4.5839, -5.0393, -3.1794, -3.3326, -3.2098, -5.2473, -5.2446, -4.5949, -4.7178, -4.7222, -5.5002, -4.8677, -4.5998, -4.8728, -5.0394, -5.0446, -5.2469, -5.2584, -5.5079, -5.5103, -4.4283, -4.815, -4.9876, -4.9879, -5.457, -5.4573, -5.4578, -5.4579, -3.5512, -5.4582, -5.8133, -5.8136, -5.814, -5.814, -5.814, -5.8143, -5.8144, -5.8145, -5.8145, -5.8146, -5.8146, -5.8148, -5.8149, -5.815, -5.8149, -5.815, -5.815, -5.8151, -4.5401, -5.1947, -5.1945, -5.195, -4.4257, -4.9845, -4.9868, -4.9868, -4.669, -5.4561, -5.4573, -3.7005, -5.4561, -5.4562, -5.4563, -5.4578, -4.6659, -5.193, -4.813, -4.8121, -3.9994, -4.1477, -5.1926, -4.8144, -4.9902, -4.9862, -5.1917, -5.1921, -4.9856, -5.1922, -5.1931, -5.1917, -5.0853, -5.3474, -4.6965, -5.7019, -5.7022, -5.703, -5.7032, -5.7032, -5.7033, -5.7034, -5.7036, -5.7038, -5.7041, -5.7043, -5.7043, -5.7043, -5.7044, -5.7046, -4.8733, -4.2102, -5.3393, -5.3443, -5.3459, -5.3461, -6.2613, -6.2613, -6.2613, -6.2613, -6.2613, -6.2613, -5.3461, -4.1153, -4.0305, -3.1975, -5.3376, -3.2722, -3.8821, -4.7002, -4.8668, -5.0768, -5.3418, -5.3454, -5.3455, -5.3457, -4.8679, -5.0817, -5.3433, -5.3452, -5.078, -5.3387, -5.0737, -5.0764, -5.3375, -5.3416, -5.3427, -5.3431], \"loglift\": [30.0, 29.0, 28.0, 27.0, 26.0, 25.0, 24.0, 23.0, 22.0, 21.0, 20.0, 19.0, 18.0, 17.0, 16.0, 15.0, 14.0, 13.0, 12.0, 11.0, 10.0, 9.0, 8.0, 7.0, 6.0, 5.0, 4.0, 3.0, 2.0, 1.0, 0.9012, 0.8853, 0.8836, 0.8834, 0.8601, 0.8597, 0.8227, 0.8227, 0.8222, 0.8222, 0.8198, 0.8122, 0.7576, 0.7574, 0.7572, 0.757, 0.7568, 0.7564, 0.7563, 0.7562, 0.7561, 0.756, 0.7557, 0.7557, 0.7556, 0.755, 0.7549, 0.7544, 0.7543, 0.7541, 0.741, 0.6924, 0.6829, 0.5793, 0.6142, 0.271, 0.2588, 0.2017, 0.5429, 0.5387, 0.3072, 0.3047, 0.3036, 0.6126, 0.0979, -0.1079, 0.0321, 0.0518, -0.1356, -0.2843, -0.5946, 0.2787, 0.4303, 1.0043, 0.9746, 0.9564, 0.9562, 0.8931, 0.8928, 0.8923, 0.8923, 0.8922, 0.8919, 0.8252, 0.825, 0.8246, 0.8245, 0.8244, 0.8242, 0.8241, 0.8241, 0.8241, 0.824, 0.8239, 0.8238, 0.8237, 0.8236, 0.8236, 0.8236, 0.8236, 0.8235, 0.8057, 0.7573, 0.7458, 0.7453, 0.5368, 0.5617, 0.5438, 0.5437, 0.4221, 0.68, 0.6789, -0.1091, 0.666, 0.6659, 0.6658, 0.6644, 0.2487, 0.4545, 0.0961, 0.0928, -0.5879, -0.6973, 0.3432, -0.1506, 0.0323, -0.0205, 0.258, 0.1585, -0.4937, -0.0088, -0.1674, -0.2895, 1.0801, 1.0392, 0.9935, 0.969, 0.9687, 0.9679, 0.9677, 0.9677, 0.9676, 0.9675, 0.9673, 0.9671, 0.9668, 0.9666, 0.9665, 0.9665, 0.9664, 0.9662, 0.9478, 0.9155, 0.8119, 0.8115, 0.8098, 0.8096, 0.8084, 0.8084, 0.8084, 0.8084, 0.8084, 0.8084, 0.8048, 0.5485, 0.4614, 0.214, 0.6231, 0.1783, -0.2907, 0.2144, 0.3166, 0.3729, 0.6187, 0.615, 0.6148, 0.6147, 0.0411, 0.2689, 0.4671, 0.4618, -0.1123, 0.3267, -0.1688, -0.1743, -0.3117, -0.8983, 0.2063, 0.3252]}, \"token.table\": {\"Topic\": [1, 2, 3, 1, 3, 2, 2, 1, 1, 1, 2, 3, 1, 1, 2, 3, 1, 1, 3, 2, 2, 3, 2, 3, 1, 3, 2, 2, 2, 2, 3, 1, 2, 3, 2, 1, 1, 2, 3, 1, 2, 2, 3, 1, 2, 1, 3, 1, 2, 1, 1, 2, 2, 1, 1, 2, 3, 1, 2, 3, 2, 3, 1, 2, 3, 3, 1, 3, 2, 1, 2, 2, 2, 3, 1, 2, 3, 3, 1, 1, 1, 2, 2, 1, 2, 3, 3, 2, 1, 2, 3, 1, 2, 3, 2, 3, 3, 1, 2, 3, 1, 3, 3, 1, 3, 1, 1, 3, 1, 2, 2, 1, 1, 3, 3, 3, 1, 2, 3, 2, 1, 3, 1, 3, 1, 2, 3, 2, 1, 2, 3, 1, 2, 1, 2, 3, 1, 2, 1, 3, 1, 3, 2, 3, 1, 3, 1, 1, 2, 3, 1, 2, 3, 1, 2, 3, 2, 2, 1, 1, 2, 3, 2, 1, 3, 1, 1, 2, 3, 1, 2, 3, 1, 2, 3, 1, 2, 1, 2, 3, 1, 3, 1, 1, 2, 3, 3, 3, 1, 3, 1, 2, 3, 1, 2, 3, 1, 2, 3, 1, 2, 3, 1, 1, 3, 1, 2, 3, 1, 3, 3, 2, 1, 2, 3, 1, 2, 1, 2, 3, 2, 3, 1, 2, 3, 1, 2, 3, 2, 1, 3, 1, 3], \"Freq\": [0.7426036679436694, 0.10608623827766704, 0.21217247655533408, 0.9154115054416092, 0.7151630252433436, 0.9293972478755594, 0.6965510736956775, 0.9153464329315121, 0.9153375431109999, 0.312614075865964, 0.312614075865964, 0.312614075865964, 0.6848008037648, 0.49115554774962095, 0.24557777387481047, 0.24557777387481047, 0.9107698078063567, 0.2854742648048547, 0.5709485296097094, 0.929445744031813, 0.5623773642207144, 0.2811886821103572, 0.28672723362028707, 0.5734544672405741, 0.9153514784235106, 0.9599586029571017, 0.9294159885565536, 0.9294617304957716, 0.6965779643391523, 0.9294163520498451, 0.7151626908051916, 0.6376880784997606, 0.21256269283325352, 0.21256269283325352, 0.6965718456292492, 0.6848206351310462, 0.0517380707774412, 0.8278091324390592, 0.1034761415548824, 0.2772861541750703, 0.5545723083501406, 0.7654602816576777, 0.25515342721922585, 0.34498112698863986, 0.5174716904829598, 0.6912385416912655, 0.23041284723042185, 0.6847988265828509, 0.9281396645075264, 0.9153967806589199, 0.2772583664743099, 0.5545167329486198, 0.929420928112218, 0.6849060184666353, 0.3522249256851697, 0.3522249256851697, 0.3522249256851697, 0.325862084320212, 0.217241389546808, 0.434482779093616, 0.4060114142837607, 0.4060114142837607, 0.3512401467681823, 0.17562007338409116, 0.3512401467681823, 0.9599137520983725, 0.9107738831435817, 0.9599275359741898, 0.9294149764362937, 0.23118742020538732, 0.693562260616162, 0.9294377940927709, 0.5623739271162859, 0.28118696355814293, 0.9153797986449476, 0.28672687393277974, 0.5734537478655595, 0.7151628961983041, 0.9154632426354508, 0.9154144981428367, 0.27726109901091445, 0.5545221980218289, 0.9293836748075625, 0.47923189939040306, 0.1725234837805451, 0.3450469675610902, 0.7151629448119624, 0.9293990138714135, 0.43614199962351424, 0.3489135996988114, 0.26168519977410853, 0.30853262770588147, 0.4627989415588222, 0.15426631385294073, 0.9293670091571157, 0.9599727091146376, 0.9600150153458239, 0.8205305016548757, 0.2867462473715188, 0.5734924947430377, 0.694162278205944, 0.347081139102972, 0.9599393844110906, 0.4717746593343568, 0.4717746593343568, 0.9154349022830927, 0.47170670966748457, 0.47170670966748457, 0.30691174500159685, 0.6138234900031937, 0.9294254237497854, 0.9155115547905995, 0.28537907659438005, 0.5707581531887601, 0.95993470940966, 0.9599545125494592, 0.46165680048048896, 0.36932544038439113, 0.18466272019219557, 0.9294450402308161, 0.5968484705012193, 0.39789898033414617, 0.9154687412426185, 0.9599121954646453, 0.20232361468897006, 0.4046472293779401, 0.4046472293779401, 0.9294489350729361, 0.4424996634882028, 0.18437485978675117, 0.36874971957350233, 0.91544373572675, 0.994211055351772, 0.15586982747969028, 0.6234793099187611, 0.31173965495938055, 0.3069022953184867, 0.6138045906369733, 0.8205027848182832, 0.715162425615575, 0.4717054967896703, 0.4717054967896703, 0.6965439575442416, 0.9599731368938718, 0.17996675704650655, 0.7198670281860262, 0.9106652738727188, 0.2772613679009464, 0.5545227358018928, 0.9599650458793879, 0.25634784982143755, 0.3845217747321563, 0.3845217747321563, 0.5927686248318317, 0.19758954161061054, 0.19758954161061054, 0.9281054105740723, 0.9294142611947428, 0.9154027620802363, 0.5494232037251512, 0.2747116018625756, 0.7151628379739396, 0.9294860642936699, 0.6847907306210982, 0.9599701231213625, 0.9154110590534262, 0.46315883157284804, 0.2778952989437088, 0.18526353262913922, 0.1657697008573611, 0.4144242521434027, 0.3315394017147222, 0.1934979628874604, 0.32249660481243403, 0.5159945676998944, 0.2311575314934509, 0.6934725944803526, 0.21690200741411422, 0.3253530111211713, 0.43380401482822845, 0.787784095713122, 0.1969460239282805, 0.9154345080134108, 0.9153374620089689, 0.7016685658139891, 0.23388952193799634, 0.8686302856113908, 0.9600303542497007, 0.20519324667682126, 0.820772986707285, 0.8212659682636135, 0.13687766137726892, 0.06843883068863446, 0.4104306776167651, 0.4104306776167651, 0.24625840657005907, 0.48555584156913034, 0.3089900809985375, 0.22070720071324107, 0.46245746803261345, 0.23122873401630673, 0.23122873401630673, 0.975086515166957, 0.204741725760186, 0.716596040160651, 0.32971921793647874, 0.4121490224205984, 0.32971921793647874, 0.4718591487758172, 0.4718591487758172, 0.9599744649715538, 0.6965480052987888, 0.3964782882777596, 0.3964782882777596, 0.1982391441388798, 0.9154174228037943, 0.9739790960836378, 0.1415449251578167, 0.42463477547345, 0.42463477547345, 0.9293556624679029, 0.7223898531168021, 0.39557604944870745, 0.4944700618108843, 0.09889401236217686, 0.26086486690673294, 0.6086846894490435, 0.1739099112711553, 0.9294100009734527, 0.9154289169692368, 0.959914309695083, 0.4717077196221887, 0.4717077196221887], \"Term\": [\"academic\", \"academic\", \"academic\", \"access\", \"act\", \"addictions\", \"administrative\", \"affect\", \"american\", \"anxiety\", \"anxiety\", \"anxiety\", \"anxious\", \"article\", \"article\", \"article\", \"articles\", \"awareness\", \"awareness\", \"better\", \"british\", \"british\", \"california\", \"california\", \"canadian\", \"care\", \"career\", \"cases\", \"center\", \"challenges\", \"collaboration\", \"college\", \"college\", \"college\", \"columbia\", \"compared\", \"counseling\", \"counseling\", \"counseling\", \"counselor\", \"counselor\", \"counselors\", \"counselors\", \"course\", \"course\", \"courses\", \"courses\", \"covid\", \"demand\", \"depressed\", \"development\", \"development\", \"director\", \"discuss\", \"discusses\", \"discusses\", \"discusses\", \"education\", \"education\", \"education\", \"educators\", \"educators\", \"emotional\", \"emotional\", \"emotional\", \"environment\", \"experience\", \"experiences\", \"exploration\", \"face\", \"face\", \"faculty\", \"family\", \"family\", \"female\", \"focus\", \"focus\", \"green\", \"group\", \"groups\", \"growing\", \"growing\", \"handle\", \"health\", \"health\", \"health\", \"healthcare\", \"held\", \"help\", \"help\", \"help\", \"high\", \"high\", \"high\", \"hiring\", \"hotlines\", \"identifying\", \"impact\", \"implemented\", \"implemented\", \"improve\", \"improve\", \"improving\", \"include\", \"include\", \"increase\", \"increased\", \"increased\", \"increasing\", \"increasing\", \"individual\", \"initiatives\", \"institutions\", \"institutions\", \"intelligence\", \"intervention\", \"issues\", \"issues\", \"issues\", \"kaohsiung\", \"levels\", \"levels\", \"like\", \"living\", \"measures\", \"measures\", \"measures\", \"medical\", \"mental\", \"mental\", \"mental\", \"methods\", \"ministry\", \"need\", \"need\", \"need\", \"online\", \"online\", \"overall\", \"paper\", \"people\", \"people\", \"personnel\", \"policy\", \"prevention\", \"prevention\", \"problems\", \"professional\", \"professional\", \"promoting\", \"provide\", \"provide\", \"provide\", \"psychological\", \"psychological\", \"psychological\", \"psychologists\", \"ratio\", \"reduce\", \"related\", \"related\", \"released\", \"remote\", \"reports\", \"require\", \"researchers\", \"resources\", \"resources\", \"resources\", \"school\", \"school\", \"school\", \"schools\", \"schools\", \"schools\", \"seeking\", \"seeking\", \"services\", \"services\", \"services\", \"significant\", \"significant\", \"sophomores\", \"specific\", \"staff\", \"staff\", \"states\", \"steps\", \"strategies\", \"strategies\", \"stress\", \"stress\", \"stress\", \"student\", \"student\", \"student\", \"students\", \"students\", \"students\", \"studies\", \"studies\", \"studies\", \"study\", \"suicide\", \"suicide\", \"support\", \"support\", \"support\", \"systems\", \"systems\", \"taking\", \"tasks\", \"teachers\", \"teachers\", \"teachers\", \"thoughts\", \"time\", \"training\", \"training\", \"training\", \"turnover\", \"united\", \"universities\", \"universities\", \"universities\", \"university\", \"university\", \"university\", \"working\", \"year\", \"years\", \"young\", \"young\"]}, \"R\": 30, \"lambda.step\": 0.01, \"plot.opts\": {\"xlab\": \"PC1\", \"ylab\": \"PC2\"}, \"topic.order\": [2, 1, 3]};\n",
       "\n",
       "function LDAvis_load_lib(url, callback){\n",
       "  var s = document.createElement('script');\n",
       "  s.src = url;\n",
       "  s.async = true;\n",
       "  s.onreadystatechange = s.onload = callback;\n",
       "  s.onerror = function(){console.warn(\"failed to load library \" + url);};\n",
       "  document.getElementsByTagName(\"head\")[0].appendChild(s);\n",
       "}\n",
       "\n",
       "if(typeof(LDAvis) !== \"undefined\"){\n",
       "   // already loaded: just create the visualization\n",
       "   !function(LDAvis){\n",
       "       new LDAvis(\"#\" + \"ldavis_el215230220621737603306918110\", ldavis_el215230220621737603306918110_data);\n",
       "   }(LDAvis);\n",
       "}else if(typeof define === \"function\" && define.amd){\n",
       "   // require.js is available: use it to load d3/LDAvis\n",
       "   require.config({paths: {d3: \"https://d3js.org/d3.v5\"}});\n",
       "   require([\"d3\"], function(d3){\n",
       "      window.d3 = d3;\n",
       "      LDAvis_load_lib(\"https://cdn.jsdelivr.net/gh/bmabey/pyLDAvis@3.4.0/pyLDAvis/js/ldavis.v3.0.0.js\", function(){\n",
       "        new LDAvis(\"#\" + \"ldavis_el215230220621737603306918110\", ldavis_el215230220621737603306918110_data);\n",
       "      });\n",
       "    });\n",
       "}else{\n",
       "    // require.js not available: dynamically load d3 & LDAvis\n",
       "    LDAvis_load_lib(\"https://d3js.org/d3.v5.js\", function(){\n",
       "         LDAvis_load_lib(\"https://cdn.jsdelivr.net/gh/bmabey/pyLDAvis@3.4.0/pyLDAvis/js/ldavis.v3.0.0.js\", function(){\n",
       "                 new LDAvis(\"#\" + \"ldavis_el215230220621737603306918110\", ldavis_el215230220621737603306918110_data);\n",
       "            })\n",
       "         });\n",
       "}\n",
       "</script>"
      ],
      "text/plain": [
       "<IPython.core.display.HTML object>"
      ]
     },
     "execution_count": 108,
     "metadata": {},
     "output_type": "execute_result"
    }
   ],
   "source": [
    "# 輸出主題模型分析結果\n",
    "import pyLDAvis.gensim\n",
    "pyLDAvis.enable_notebook()\n",
    "vis = pyLDAvis.gensim.prepare(lda_model, corpus, dictionary)\n",
    "pyLDAvis.display(vis)"
   ]
  },
  {
   "cell_type": "code",
   "execution_count": null,
   "id": "ca089c23",
   "metadata": {},
   "outputs": [],
   "source": []
  }
 ],
 "metadata": {
  "kernelspec": {
   "display_name": "Python 3 (ipykernel)",
   "language": "python",
   "name": "python3"
  },
  "language_info": {
   "codemirror_mode": {
    "name": "ipython",
    "version": 3
   },
   "file_extension": ".py",
   "mimetype": "text/x-python",
   "name": "python",
   "nbconvert_exporter": "python",
   "pygments_lexer": "ipython3",
   "version": "3.9.13"
  }
 },
 "nbformat": 4,
 "nbformat_minor": 5
}
