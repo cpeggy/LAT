{
 "cells": [
  {
   "cell_type": "code",
   "execution_count": null,
   "id": "40ad6303",
   "metadata": {},
   "outputs": [],
   "source": [
    "#Pandas練習"
   ]
  },
  {
   "cell_type": "code",
   "execution_count": 1,
   "id": "b52ef7cf",
   "metadata": {},
   "outputs": [],
   "source": [
    "import pandas as pd"
   ]
  },
  {
   "cell_type": "code",
   "execution_count": 2,
   "id": "17e23548",
   "metadata": {},
   "outputs": [
    {
     "data": {
      "text/html": [
       "<div>\n",
       "<style scoped>\n",
       "    .dataframe tbody tr th:only-of-type {\n",
       "        vertical-align: middle;\n",
       "    }\n",
       "\n",
       "    .dataframe tbody tr th {\n",
       "        vertical-align: top;\n",
       "    }\n",
       "\n",
       "    .dataframe thead th {\n",
       "        text-align: right;\n",
       "    }\n",
       "</style>\n",
       "<table border=\"1\" class=\"dataframe\">\n",
       "  <thead>\n",
       "    <tr style=\"text-align: right;\">\n",
       "      <th></th>\n",
       "      <th>年度</th>\n",
       "      <th>編號</th>\n",
       "      <th>獲獎學校</th>\n",
       "    </tr>\n",
       "  </thead>\n",
       "  <tbody>\n",
       "    <tr>\n",
       "      <th>0</th>\n",
       "      <td>110</td>\n",
       "      <td>1</td>\n",
       "      <td>吳鳳學校財團法人吳鳳科技大學</td>\n",
       "    </tr>\n",
       "    <tr>\n",
       "      <th>1</th>\n",
       "      <td>110</td>\n",
       "      <td>2</td>\n",
       "      <td>台南家專學校財團法人台南應用科技大學</td>\n",
       "    </tr>\n",
       "    <tr>\n",
       "      <th>2</th>\n",
       "      <td>110</td>\n",
       "      <td>3</td>\n",
       "      <td>國立高雄科技大學</td>\n",
       "    </tr>\n",
       "    <tr>\n",
       "      <th>3</th>\n",
       "      <td>110</td>\n",
       "      <td>4</td>\n",
       "      <td>淡江大學學校財團法人淡江大學</td>\n",
       "    </tr>\n",
       "    <tr>\n",
       "      <th>4</th>\n",
       "      <td>110</td>\n",
       "      <td>5</td>\n",
       "      <td>銘傳大學</td>\n",
       "    </tr>\n",
       "  </tbody>\n",
       "</table>\n",
       "</div>"
      ],
      "text/plain": [
       "    年度  編號                獲獎學校\n",
       "0  110   1      吳鳳學校財團法人吳鳳科技大學\n",
       "1  110   2  台南家專學校財團法人台南應用科技大學\n",
       "2  110   3            國立高雄科技大學\n",
       "3  110   4      淡江大學學校財團法人淡江大學\n",
       "4  110   5                銘傳大學"
      ]
     },
     "execution_count": 2,
     "metadata": {},
     "output_type": "execute_result"
    }
   ],
   "source": [
    "## 讓pd讀檔\n",
    "a = pd.read_csv(\"兵役績優學校.csv\",encoding = \"Big5\")\n",
    "a.head() #test"
   ]
  },
  {
   "cell_type": "code",
   "execution_count": null,
   "id": "1b58a158",
   "metadata": {},
   "outputs": [],
   "source": []
  }
 ],
 "metadata": {
  "kernelspec": {
   "display_name": "Python 3 (ipykernel)",
   "language": "python",
   "name": "python3"
  },
  "language_info": {
   "codemirror_mode": {
    "name": "ipython",
    "version": 3
   },
   "file_extension": ".py",
   "mimetype": "text/x-python",
   "name": "python",
   "nbconvert_exporter": "python",
   "pygments_lexer": "ipython3",
   "version": "3.9.13"
  }
 },
 "nbformat": 4,
 "nbformat_minor": 5
}
